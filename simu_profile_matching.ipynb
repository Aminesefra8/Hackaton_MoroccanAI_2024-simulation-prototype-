{
 "cells": [
  {
   "cell_type": "code",
   "execution_count": 2,
   "metadata": {},
   "outputs": [],
   "source": [
    "import getpass\n",
    "import os\n",
    "\n",
    "os.environ[\"OPENAI_API_KEY\"] = getpass.getpass()"
   ]
  },
  {
   "cell_type": "code",
   "execution_count": 3,
   "metadata": {},
   "outputs": [],
   "source": [
    "import sys\n",
    "\n",
    "# Add the current folder to sys.path\n",
    "sys.path.append(os.path.abspath(''))"
   ]
  },
  {
   "cell_type": "code",
   "execution_count": 4,
   "metadata": {},
   "outputs": [],
   "source": [
    "from langchain_openai import ChatOpenAI\n",
    "\n",
    "llm = ChatOpenAI(model=\"gpt-4\")"
   ]
  },
  {
   "cell_type": "code",
   "execution_count": 5,
   "metadata": {},
   "outputs": [],
   "source": [
    "from langchain_core.documents import Document\n",
    "\n",
    "\n",
    "documents = [\n",
    "    Document(\n",
    "        page_content=(\n",
    "            \"Ever since I lost my job last year, I've been struggling to find my footing. \"\n",
    "            \"Every day feels like a challenge, waking up with no sense of purpose or direction. \"\n",
    "            \"I’ve tried applying for countless jobs, but the constant rejections have left me feeling inadequate. \"\n",
    "            \"Talking to my friends helps sometimes, but I often feel like a burden when I share my feelings.\"\n",
    "        ),\n",
    "        metadata={\"user_id\": \"user_1\", \"topic\": \"job loss, depression\"}\n",
    "    ),\n",
    "    Document(\n",
    "        page_content=(\n",
    "            \"My battle with social anxiety has taken over my life. Going to the grocery store feels like climbing a mountain. \"\n",
    "            \"Even simple interactions, like saying hello to a neighbor, send my heart racing. \"\n",
    "            \"I've been avoiding social gatherings for months now, and the loneliness is unbearable. \"\n",
    "            \"Recently, I started therapy, and while it’s hard, I’m hopeful it might help.\"\n",
    "        ),\n",
    "        metadata={\"user_id\": \"user_2\", \"topic\": \"social anxiety, loneliness\"}\n",
    "    ),\n",
    "    Document(\n",
    "        page_content=(\n",
    "            \"Losing my mother to cancer was the hardest thing I've ever faced. She was my rock, my guide in life. \"\n",
    "            \"Every day, I feel the weight of her absence, and it’s difficult to move forward. \"\n",
    "            \"I’ve tried journaling my thoughts and emotions, and while it brings a bit of relief, the pain is still overwhelming. \"\n",
    "            \"Sometimes, I just sit in her favorite chair and imagine she’s still here.\"\n",
    "        ),\n",
    "        metadata={\"user_id\": \"user_3\", \"topic\": \"grief, loss\"}\n",
    "    ),\n",
    "    Document(\n",
    "        page_content=(\n",
    "            \"For years, I’ve felt like a failure. I dropped out of college and have been working odd jobs ever since. \"\n",
    "            \"Seeing my friends succeed while I feel stuck has been incredibly tough. \"\n",
    "            \"I’ve been trying to learn new skills online, but it feels like an uphill battle. \"\n",
    "            \"Some days, I wonder if I’ll ever find my way or make my family proud.\"\n",
    "        ),\n",
    "        metadata={\"user_id\": \"user_4\", \"topic\": \"self-doubt, failure\"}\n",
    "    ),\n",
    "    Document(\n",
    "        page_content=(\n",
    "            \"After my divorce, life has felt like a blur. I lost not only my partner but also the sense of security and routine we built together. \"\n",
    "            \"I’ve been trying to focus on myself, picking up hobbies like painting and hiking, but the loneliness creeps in. \"\n",
    "            \"Talking to my kids helps me stay grounded, but the nights are especially hard.\"\n",
    "        ),\n",
    "        metadata={\"user_id\": \"user_5\", \"topic\": \"divorce, loneliness\"}\n",
    "    ),\n",
    "    Document(\n",
    "        page_content=(\n",
    "            \"Depression has been my constant companion for as long as I can remember. Some days, it feels like a fog I can’t escape. \"\n",
    "            \"I’ve tried medication, therapy, and even exercise, but nothing seems to make a lasting difference. \"\n",
    "            \"My friends and family try to help, but I feel like no one truly understands what it’s like to live like this.\"\n",
    "        ),\n",
    "        metadata={\"user_id\": \"user_6\", \"topic\": \"chronic depression\"}\n",
    "    ),\n",
    "    Document(\n",
    "        page_content=(\n",
    "            \"Being a single parent is the hardest job I’ve ever had. Between work, taking care of my child, and managing a household, \"\n",
    "            \"I barely have time to breathe. I feel immense guilt for not being able to give my child everything they deserve. \"\n",
    "            \"Sometimes, I cry myself to sleep, wondering if I’m doing enough.\"\n",
    "        ),\n",
    "        metadata={\"user_id\": \"user_7\", \"topic\": \"parenting, stress\"}\n",
    "    ),\n",
    "    Document(\n",
    "        page_content=(\n",
    "            \"A few years ago, I suffered a severe injury that left me in chronic pain. The physical discomfort is one thing, \"\n",
    "            \"but the emotional toll has been just as debilitating. I’ve had to give up hobbies I loved, like running and playing sports. \"\n",
    "            \"Every day feels like a battle, but I try to focus on the little victories, like being able to take a short walk.\"\n",
    "        ),\n",
    "        metadata={\"user_id\": \"user_8\", \"topic\": \"chronic pain, emotional toll\"}\n",
    "    ),\n",
    "    Document(\n",
    "        page_content=(\n",
    "            \"I’ve always struggled with self-esteem, but it’s gotten worse recently. Seeing everyone on social media living their best lives \"\n",
    "            \"makes me feel like I’m not enough. I’ve been comparing myself to others, and it’s exhausting. \"\n",
    "            \"I started journaling and trying to limit my screen time, but it’s hard to break out of this cycle.\"\n",
    "        ),\n",
    "        metadata={\"user_id\": \"user_9\", \"topic\": \"self-esteem, comparison\"}\n",
    "    ),\n",
    "    Document(\n",
    "        page_content=(\n",
    "            \"The pandemic left me feeling isolated and disconnected from the world. Working remotely has its perks, \"\n",
    "            \"but I miss the daily interactions with my colleagues. I’ve started taking evening walks to clear my mind, \"\n",
    "            \"but the sense of loneliness is hard to shake. Video calls just aren’t the same as being with people in person.\"\n",
    "        ),\n",
    "        metadata={\"user_id\": \"user_10\", \"topic\": \"isolation, pandemic\"}\n",
    "    ),\n",
    "]\n"
   ]
  },
  {
   "cell_type": "code",
   "execution_count": 6,
   "metadata": {},
   "outputs": [
    {
     "data": {
      "text/plain": [
       "[Document(metadata={'user_id': 'user_1', 'topic': 'job loss, depression'}, page_content=\"Ever since I lost my job last year, I've been struggling to find my footing. Every day feels like a\"),\n",
       " Document(metadata={'user_id': 'user_1', 'topic': 'job loss, depression'}, page_content='day feels like a challenge, waking up with no sense of purpose or direction. I’ve tried applying'),\n",
       " Document(metadata={'user_id': 'user_1', 'topic': 'job loss, depression'}, page_content='I’ve tried applying for countless jobs, but the constant rejections have left me feeling'),\n",
       " Document(metadata={'user_id': 'user_1', 'topic': 'job loss, depression'}, page_content='left me feeling inadequate. Talking to my friends helps sometimes, but I often feel like a burden'),\n",
       " Document(metadata={'user_id': 'user_1', 'topic': 'job loss, depression'}, page_content='feel like a burden when I share my feelings.'),\n",
       " Document(metadata={'user_id': 'user_2', 'topic': 'social anxiety, loneliness'}, page_content='My battle with social anxiety has taken over my life. Going to the grocery store feels like climbing'),\n",
       " Document(metadata={'user_id': 'user_2', 'topic': 'social anxiety, loneliness'}, page_content='feels like climbing a mountain. Even simple interactions, like saying hello to a neighbor, send my'),\n",
       " Document(metadata={'user_id': 'user_2', 'topic': 'social anxiety, loneliness'}, page_content=\"a neighbor, send my heart racing. I've been avoiding social gatherings for months now, and the\"),\n",
       " Document(metadata={'user_id': 'user_2', 'topic': 'social anxiety, loneliness'}, page_content='months now, and the loneliness is unbearable. Recently, I started therapy, and while it’s hard, I’m'),\n",
       " Document(metadata={'user_id': 'user_2', 'topic': 'social anxiety, loneliness'}, page_content='it’s hard, I’m hopeful it might help.'),\n",
       " Document(metadata={'user_id': 'user_3', 'topic': 'grief, loss'}, page_content=\"Losing my mother to cancer was the hardest thing I've ever faced. She was my rock, my guide in life.\"),\n",
       " Document(metadata={'user_id': 'user_3', 'topic': 'grief, loss'}, page_content='my guide in life. Every day, I feel the weight of her absence, and it’s difficult to move forward.'),\n",
       " Document(metadata={'user_id': 'user_3', 'topic': 'grief, loss'}, page_content='to move forward. I’ve tried journaling my thoughts and emotions, and while it brings a bit of'),\n",
       " Document(metadata={'user_id': 'user_3', 'topic': 'grief, loss'}, page_content='it brings a bit of relief, the pain is still overwhelming. Sometimes, I just sit in her favorite'),\n",
       " Document(metadata={'user_id': 'user_3', 'topic': 'grief, loss'}, page_content='sit in her favorite chair and imagine she’s still here.'),\n",
       " Document(metadata={'user_id': 'user_4', 'topic': 'self-doubt, failure'}, page_content='For years, I’ve felt like a failure. I dropped out of college and have been working odd jobs ever'),\n",
       " Document(metadata={'user_id': 'user_4', 'topic': 'self-doubt, failure'}, page_content='odd jobs ever since. Seeing my friends succeed while I feel stuck has been incredibly tough. I’ve'),\n",
       " Document(metadata={'user_id': 'user_4', 'topic': 'self-doubt, failure'}, page_content='tough. I’ve been trying to learn new skills online, but it feels like an uphill battle. Some days,'),\n",
       " Document(metadata={'user_id': 'user_4', 'topic': 'self-doubt, failure'}, page_content='battle. Some days, I wonder if I’ll ever find my way or make my family proud.'),\n",
       " Document(metadata={'user_id': 'user_5', 'topic': 'divorce, loneliness'}, page_content='After my divorce, life has felt like a blur. I lost not only my partner but also the sense of'),\n",
       " Document(metadata={'user_id': 'user_5', 'topic': 'divorce, loneliness'}, page_content='also the sense of security and routine we built together. I’ve been trying to focus on myself,'),\n",
       " Document(metadata={'user_id': 'user_5', 'topic': 'divorce, loneliness'}, page_content='to focus on myself, picking up hobbies like painting and hiking, but the loneliness creeps in.'),\n",
       " Document(metadata={'user_id': 'user_5', 'topic': 'divorce, loneliness'}, page_content='creeps in. Talking to my kids helps me stay grounded, but the nights are especially hard.'),\n",
       " Document(metadata={'user_id': 'user_6', 'topic': 'chronic depression'}, page_content='Depression has been my constant companion for as long as I can remember. Some days, it feels like a'),\n",
       " Document(metadata={'user_id': 'user_6', 'topic': 'chronic depression'}, page_content='it feels like a fog I can’t escape. I’ve tried medication, therapy, and even exercise, but nothing'),\n",
       " Document(metadata={'user_id': 'user_6', 'topic': 'chronic depression'}, page_content='but nothing seems to make a lasting difference. My friends and family try to help, but I feel like'),\n",
       " Document(metadata={'user_id': 'user_6', 'topic': 'chronic depression'}, page_content='but I feel like no one truly understands what it’s like to live like this.'),\n",
       " Document(metadata={'user_id': 'user_7', 'topic': 'parenting, stress'}, page_content='Being a single parent is the hardest job I’ve ever had. Between work, taking care of my child, and'),\n",
       " Document(metadata={'user_id': 'user_7', 'topic': 'parenting, stress'}, page_content='of my child, and managing a household, I barely have time to breathe. I feel immense guilt for not'),\n",
       " Document(metadata={'user_id': 'user_7', 'topic': 'parenting, stress'}, page_content='guilt for not being able to give my child everything they deserve. Sometimes, I cry myself to'),\n",
       " Document(metadata={'user_id': 'user_7', 'topic': 'parenting, stress'}, page_content='I cry myself to sleep, wondering if I’m doing enough.'),\n",
       " Document(metadata={'user_id': 'user_8', 'topic': 'chronic pain, emotional toll'}, page_content='A few years ago, I suffered a severe injury that left me in chronic pain. The physical discomfort is'),\n",
       " Document(metadata={'user_id': 'user_8', 'topic': 'chronic pain, emotional toll'}, page_content='discomfort is one thing, but the emotional toll has been just as debilitating. I’ve had to give up'),\n",
       " Document(metadata={'user_id': 'user_8', 'topic': 'chronic pain, emotional toll'}, page_content='I’ve had to give up hobbies I loved, like running and playing sports. Every day feels like a'),\n",
       " Document(metadata={'user_id': 'user_8', 'topic': 'chronic pain, emotional toll'}, page_content='day feels like a battle, but I try to focus on the little victories, like being able to take a'),\n",
       " Document(metadata={'user_id': 'user_8', 'topic': 'chronic pain, emotional toll'}, page_content='able to take a short walk.'),\n",
       " Document(metadata={'user_id': 'user_9', 'topic': 'self-esteem, comparison'}, page_content='I’ve always struggled with self-esteem, but it’s gotten worse recently. Seeing everyone on social'),\n",
       " Document(metadata={'user_id': 'user_9', 'topic': 'self-esteem, comparison'}, page_content='everyone on social media living their best lives makes me feel like I’m not enough. I’ve been'),\n",
       " Document(metadata={'user_id': 'user_9', 'topic': 'self-esteem, comparison'}, page_content='enough. I’ve been comparing myself to others, and it’s exhausting. I started journaling and trying'),\n",
       " Document(metadata={'user_id': 'user_9', 'topic': 'self-esteem, comparison'}, page_content='and trying to limit my screen time, but it’s hard to break out of this cycle.'),\n",
       " Document(metadata={'user_id': 'user_10', 'topic': 'isolation, pandemic'}, page_content='The pandemic left me feeling isolated and disconnected from the world. Working remotely has its'),\n",
       " Document(metadata={'user_id': 'user_10', 'topic': 'isolation, pandemic'}, page_content='remotely has its perks, but I miss the daily interactions with my colleagues. I’ve started taking'),\n",
       " Document(metadata={'user_id': 'user_10', 'topic': 'isolation, pandemic'}, page_content='I’ve started taking evening walks to clear my mind, but the sense of loneliness is hard to shake.'),\n",
       " Document(metadata={'user_id': 'user_10', 'topic': 'isolation, pandemic'}, page_content='is hard to shake. Video calls just aren’t the same as being with people in person.')]"
      ]
     },
     "execution_count": 6,
     "metadata": {},
     "output_type": "execute_result"
    }
   ],
   "source": [
    "from langchain.text_splitter import RecursiveCharacterTextSplitter\n",
    "\n",
    "\n",
    "splitter = RecursiveCharacterTextSplitter(\n",
    "    chunk_size = 100,\n",
    "    chunk_overlap = 20,\n",
    "    length_function = len\n",
    ")\n",
    "\n",
    "split_docs = splitter.split_documents(documents)\n",
    "split_docs"
   ]
  },
  {
   "cell_type": "code",
   "execution_count": 7,
   "metadata": {},
   "outputs": [],
   "source": [
    "from collections import defaultdict\n",
    "\n",
    "grouped_chunks = defaultdict(list)\n",
    "for chunk in split_docs:\n",
    "    user_id = chunk.metadata[\"user_id\"]\n",
    "    grouped_chunks[user_id].append(chunk)\n",
    "\n",
    "user_list_doc = list(grouped_chunks.values())"
   ]
  },
  {
   "cell_type": "code",
   "execution_count": 8,
   "metadata": {},
   "outputs": [
    {
     "data": {
      "text/plain": [
       "[[Document(metadata={'user_id': 'user_1', 'topic': 'job loss, depression'}, page_content=\"Ever since I lost my job last year, I've been struggling to find my footing. Every day feels like a\"),\n",
       "  Document(metadata={'user_id': 'user_1', 'topic': 'job loss, depression'}, page_content='day feels like a challenge, waking up with no sense of purpose or direction. I’ve tried applying'),\n",
       "  Document(metadata={'user_id': 'user_1', 'topic': 'job loss, depression'}, page_content='I’ve tried applying for countless jobs, but the constant rejections have left me feeling'),\n",
       "  Document(metadata={'user_id': 'user_1', 'topic': 'job loss, depression'}, page_content='left me feeling inadequate. Talking to my friends helps sometimes, but I often feel like a burden'),\n",
       "  Document(metadata={'user_id': 'user_1', 'topic': 'job loss, depression'}, page_content='feel like a burden when I share my feelings.')],\n",
       " [Document(metadata={'user_id': 'user_2', 'topic': 'social anxiety, loneliness'}, page_content='My battle with social anxiety has taken over my life. Going to the grocery store feels like climbing'),\n",
       "  Document(metadata={'user_id': 'user_2', 'topic': 'social anxiety, loneliness'}, page_content='feels like climbing a mountain. Even simple interactions, like saying hello to a neighbor, send my'),\n",
       "  Document(metadata={'user_id': 'user_2', 'topic': 'social anxiety, loneliness'}, page_content=\"a neighbor, send my heart racing. I've been avoiding social gatherings for months now, and the\"),\n",
       "  Document(metadata={'user_id': 'user_2', 'topic': 'social anxiety, loneliness'}, page_content='months now, and the loneliness is unbearable. Recently, I started therapy, and while it’s hard, I’m'),\n",
       "  Document(metadata={'user_id': 'user_2', 'topic': 'social anxiety, loneliness'}, page_content='it’s hard, I’m hopeful it might help.')],\n",
       " [Document(metadata={'user_id': 'user_3', 'topic': 'grief, loss'}, page_content=\"Losing my mother to cancer was the hardest thing I've ever faced. She was my rock, my guide in life.\"),\n",
       "  Document(metadata={'user_id': 'user_3', 'topic': 'grief, loss'}, page_content='my guide in life. Every day, I feel the weight of her absence, and it’s difficult to move forward.'),\n",
       "  Document(metadata={'user_id': 'user_3', 'topic': 'grief, loss'}, page_content='to move forward. I’ve tried journaling my thoughts and emotions, and while it brings a bit of'),\n",
       "  Document(metadata={'user_id': 'user_3', 'topic': 'grief, loss'}, page_content='it brings a bit of relief, the pain is still overwhelming. Sometimes, I just sit in her favorite'),\n",
       "  Document(metadata={'user_id': 'user_3', 'topic': 'grief, loss'}, page_content='sit in her favorite chair and imagine she’s still here.')],\n",
       " [Document(metadata={'user_id': 'user_4', 'topic': 'self-doubt, failure'}, page_content='For years, I’ve felt like a failure. I dropped out of college and have been working odd jobs ever'),\n",
       "  Document(metadata={'user_id': 'user_4', 'topic': 'self-doubt, failure'}, page_content='odd jobs ever since. Seeing my friends succeed while I feel stuck has been incredibly tough. I’ve'),\n",
       "  Document(metadata={'user_id': 'user_4', 'topic': 'self-doubt, failure'}, page_content='tough. I’ve been trying to learn new skills online, but it feels like an uphill battle. Some days,'),\n",
       "  Document(metadata={'user_id': 'user_4', 'topic': 'self-doubt, failure'}, page_content='battle. Some days, I wonder if I’ll ever find my way or make my family proud.')],\n",
       " [Document(metadata={'user_id': 'user_5', 'topic': 'divorce, loneliness'}, page_content='After my divorce, life has felt like a blur. I lost not only my partner but also the sense of'),\n",
       "  Document(metadata={'user_id': 'user_5', 'topic': 'divorce, loneliness'}, page_content='also the sense of security and routine we built together. I’ve been trying to focus on myself,'),\n",
       "  Document(metadata={'user_id': 'user_5', 'topic': 'divorce, loneliness'}, page_content='to focus on myself, picking up hobbies like painting and hiking, but the loneliness creeps in.'),\n",
       "  Document(metadata={'user_id': 'user_5', 'topic': 'divorce, loneliness'}, page_content='creeps in. Talking to my kids helps me stay grounded, but the nights are especially hard.')],\n",
       " [Document(metadata={'user_id': 'user_6', 'topic': 'chronic depression'}, page_content='Depression has been my constant companion for as long as I can remember. Some days, it feels like a'),\n",
       "  Document(metadata={'user_id': 'user_6', 'topic': 'chronic depression'}, page_content='it feels like a fog I can’t escape. I’ve tried medication, therapy, and even exercise, but nothing'),\n",
       "  Document(metadata={'user_id': 'user_6', 'topic': 'chronic depression'}, page_content='but nothing seems to make a lasting difference. My friends and family try to help, but I feel like'),\n",
       "  Document(metadata={'user_id': 'user_6', 'topic': 'chronic depression'}, page_content='but I feel like no one truly understands what it’s like to live like this.')],\n",
       " [Document(metadata={'user_id': 'user_7', 'topic': 'parenting, stress'}, page_content='Being a single parent is the hardest job I’ve ever had. Between work, taking care of my child, and'),\n",
       "  Document(metadata={'user_id': 'user_7', 'topic': 'parenting, stress'}, page_content='of my child, and managing a household, I barely have time to breathe. I feel immense guilt for not'),\n",
       "  Document(metadata={'user_id': 'user_7', 'topic': 'parenting, stress'}, page_content='guilt for not being able to give my child everything they deserve. Sometimes, I cry myself to'),\n",
       "  Document(metadata={'user_id': 'user_7', 'topic': 'parenting, stress'}, page_content='I cry myself to sleep, wondering if I’m doing enough.')],\n",
       " [Document(metadata={'user_id': 'user_8', 'topic': 'chronic pain, emotional toll'}, page_content='A few years ago, I suffered a severe injury that left me in chronic pain. The physical discomfort is'),\n",
       "  Document(metadata={'user_id': 'user_8', 'topic': 'chronic pain, emotional toll'}, page_content='discomfort is one thing, but the emotional toll has been just as debilitating. I’ve had to give up'),\n",
       "  Document(metadata={'user_id': 'user_8', 'topic': 'chronic pain, emotional toll'}, page_content='I’ve had to give up hobbies I loved, like running and playing sports. Every day feels like a'),\n",
       "  Document(metadata={'user_id': 'user_8', 'topic': 'chronic pain, emotional toll'}, page_content='day feels like a battle, but I try to focus on the little victories, like being able to take a'),\n",
       "  Document(metadata={'user_id': 'user_8', 'topic': 'chronic pain, emotional toll'}, page_content='able to take a short walk.')],\n",
       " [Document(metadata={'user_id': 'user_9', 'topic': 'self-esteem, comparison'}, page_content='I’ve always struggled with self-esteem, but it’s gotten worse recently. Seeing everyone on social'),\n",
       "  Document(metadata={'user_id': 'user_9', 'topic': 'self-esteem, comparison'}, page_content='everyone on social media living their best lives makes me feel like I’m not enough. I’ve been'),\n",
       "  Document(metadata={'user_id': 'user_9', 'topic': 'self-esteem, comparison'}, page_content='enough. I’ve been comparing myself to others, and it’s exhausting. I started journaling and trying'),\n",
       "  Document(metadata={'user_id': 'user_9', 'topic': 'self-esteem, comparison'}, page_content='and trying to limit my screen time, but it’s hard to break out of this cycle.')],\n",
       " [Document(metadata={'user_id': 'user_10', 'topic': 'isolation, pandemic'}, page_content='The pandemic left me feeling isolated and disconnected from the world. Working remotely has its'),\n",
       "  Document(metadata={'user_id': 'user_10', 'topic': 'isolation, pandemic'}, page_content='remotely has its perks, but I miss the daily interactions with my colleagues. I’ve started taking'),\n",
       "  Document(metadata={'user_id': 'user_10', 'topic': 'isolation, pandemic'}, page_content='I’ve started taking evening walks to clear my mind, but the sense of loneliness is hard to shake.'),\n",
       "  Document(metadata={'user_id': 'user_10', 'topic': 'isolation, pandemic'}, page_content='is hard to shake. Video calls just aren’t the same as being with people in person.')]]"
      ]
     },
     "execution_count": 8,
     "metadata": {},
     "output_type": "execute_result"
    }
   ],
   "source": [
    "user_list_doc"
   ]
  },
  {
   "cell_type": "code",
   "execution_count": 9,
   "metadata": {},
   "outputs": [],
   "source": [
    "data_user = []\n",
    "\n",
    "for user_list in user_list_doc:\n",
    "    \n",
    "    user_id = user_list[0].metadata[\"user_id\"]\n",
    "    user_topic = user_list[0].metadata[\"topic\"]\n",
    "    user_list_doc = user_list\n",
    "    dict_data = {\"user_id\": user_id, \"user_topic\": user_topic, \"user_list_doc\": user_list_doc}\n",
    "    data_user.append(dict_data)\n"
   ]
  },
  {
   "cell_type": "code",
   "execution_count": 10,
   "metadata": {},
   "outputs": [
    {
     "data": {
      "text/html": [
       "<div>\n",
       "<style scoped>\n",
       "    .dataframe tbody tr th:only-of-type {\n",
       "        vertical-align: middle;\n",
       "    }\n",
       "\n",
       "    .dataframe tbody tr th {\n",
       "        vertical-align: top;\n",
       "    }\n",
       "\n",
       "    .dataframe thead th {\n",
       "        text-align: right;\n",
       "    }\n",
       "</style>\n",
       "<table border=\"1\" class=\"dataframe\">\n",
       "  <thead>\n",
       "    <tr style=\"text-align: right;\">\n",
       "      <th></th>\n",
       "      <th>user_id</th>\n",
       "      <th>user_topic</th>\n",
       "      <th>user_list_doc</th>\n",
       "    </tr>\n",
       "  </thead>\n",
       "  <tbody>\n",
       "    <tr>\n",
       "      <th>0</th>\n",
       "      <td>user_1</td>\n",
       "      <td>job loss, depression</td>\n",
       "      <td>[page_content='Ever since I lost my job last y...</td>\n",
       "    </tr>\n",
       "    <tr>\n",
       "      <th>1</th>\n",
       "      <td>user_2</td>\n",
       "      <td>social anxiety, loneliness</td>\n",
       "      <td>[page_content='My battle with social anxiety h...</td>\n",
       "    </tr>\n",
       "    <tr>\n",
       "      <th>2</th>\n",
       "      <td>user_3</td>\n",
       "      <td>grief, loss</td>\n",
       "      <td>[page_content='Losing my mother to cancer was ...</td>\n",
       "    </tr>\n",
       "    <tr>\n",
       "      <th>3</th>\n",
       "      <td>user_4</td>\n",
       "      <td>self-doubt, failure</td>\n",
       "      <td>[page_content='For years, I’ve felt like a fai...</td>\n",
       "    </tr>\n",
       "    <tr>\n",
       "      <th>4</th>\n",
       "      <td>user_5</td>\n",
       "      <td>divorce, loneliness</td>\n",
       "      <td>[page_content='After my divorce, life has felt...</td>\n",
       "    </tr>\n",
       "    <tr>\n",
       "      <th>5</th>\n",
       "      <td>user_6</td>\n",
       "      <td>chronic depression</td>\n",
       "      <td>[page_content='Depression has been my constant...</td>\n",
       "    </tr>\n",
       "    <tr>\n",
       "      <th>6</th>\n",
       "      <td>user_7</td>\n",
       "      <td>parenting, stress</td>\n",
       "      <td>[page_content='Being a single parent is the ha...</td>\n",
       "    </tr>\n",
       "    <tr>\n",
       "      <th>7</th>\n",
       "      <td>user_8</td>\n",
       "      <td>chronic pain, emotional toll</td>\n",
       "      <td>[page_content='A few years ago, I suffered a s...</td>\n",
       "    </tr>\n",
       "    <tr>\n",
       "      <th>8</th>\n",
       "      <td>user_9</td>\n",
       "      <td>self-esteem, comparison</td>\n",
       "      <td>[page_content='I’ve always struggled with self...</td>\n",
       "    </tr>\n",
       "    <tr>\n",
       "      <th>9</th>\n",
       "      <td>user_10</td>\n",
       "      <td>isolation, pandemic</td>\n",
       "      <td>[page_content='The pandemic left me feeling is...</td>\n",
       "    </tr>\n",
       "  </tbody>\n",
       "</table>\n",
       "</div>"
      ],
      "text/plain": [
       "   user_id                    user_topic  \\\n",
       "0   user_1          job loss, depression   \n",
       "1   user_2    social anxiety, loneliness   \n",
       "2   user_3                   grief, loss   \n",
       "3   user_4           self-doubt, failure   \n",
       "4   user_5           divorce, loneliness   \n",
       "5   user_6            chronic depression   \n",
       "6   user_7             parenting, stress   \n",
       "7   user_8  chronic pain, emotional toll   \n",
       "8   user_9       self-esteem, comparison   \n",
       "9  user_10           isolation, pandemic   \n",
       "\n",
       "                                       user_list_doc  \n",
       "0  [page_content='Ever since I lost my job last y...  \n",
       "1  [page_content='My battle with social anxiety h...  \n",
       "2  [page_content='Losing my mother to cancer was ...  \n",
       "3  [page_content='For years, I’ve felt like a fai...  \n",
       "4  [page_content='After my divorce, life has felt...  \n",
       "5  [page_content='Depression has been my constant...  \n",
       "6  [page_content='Being a single parent is the ha...  \n",
       "7  [page_content='A few years ago, I suffered a s...  \n",
       "8  [page_content='I’ve always struggled with self...  \n",
       "9  [page_content='The pandemic left me feeling is...  "
      ]
     },
     "execution_count": 10,
     "metadata": {},
     "output_type": "execute_result"
    }
   ],
   "source": [
    "import pandas as pd\n",
    "\n",
    "data_user = pd.DataFrame(data_user)\n",
    "data_user"
   ]
  },
  {
   "cell_type": "code",
   "execution_count": 11,
   "metadata": {},
   "outputs": [],
   "source": [
    "from graph_user import create_app\n",
    "\n",
    "app = create_app()"
   ]
  },
  {
   "cell_type": "code",
   "execution_count": 12,
   "metadata": {},
   "outputs": [
    {
     "data": {
      "image/png": "[encoded data removed]",
      "text/plain": [
       "<IPython.core.display.Image object>"
      ]
     },
     "execution_count": 12,
     "metadata": {},
     "output_type": "execute_result"
    }
   ],
   "source": [
    "from IPython.display import Image\n",
    "\n",
    "Image(app.get_graph().draw_mermaid_png())"
   ]
  },
  {
   "cell_type": "code",
   "execution_count": 13,
   "metadata": {},
   "outputs": [
    {
     "ename": "CancelledError",
     "evalue": "",
     "output_type": "error",
     "traceback": [
      "\u001b[1;31m---------------------------------------------------------------------------\u001b[0m",
      "\u001b[1;31mSSLWantReadError\u001b[0m                          Traceback (most recent call last)",
      "File \u001b[1;32mc:\\Users\\amine\\Anaconda3\\Lib\\site-packages\\anyio\\streams\\tls.py:140\u001b[0m, in \u001b[0;36mTLSStream._call_sslobject_method\u001b[1;34m(self, func, *args)\u001b[0m\n\u001b[0;32m    139\u001b[0m \u001b[38;5;28;01mtry\u001b[39;00m:\n\u001b[1;32m--> 140\u001b[0m     result \u001b[38;5;241m=\u001b[39m func(\u001b[38;5;241m*\u001b[39margs)\n\u001b[0;32m    141\u001b[0m \u001b[38;5;28;01mexcept\u001b[39;00m ssl\u001b[38;5;241m.\u001b[39mSSLWantReadError:\n",
      "File \u001b[1;32mc:\\Users\\amine\\Anaconda3\\Lib\\ssl.py:859\u001b[0m, in \u001b[0;36mSSLObject.read\u001b[1;34m(self, len, buffer)\u001b[0m\n\u001b[0;32m    858\u001b[0m \u001b[38;5;28;01melse\u001b[39;00m:\n\u001b[1;32m--> 859\u001b[0m     v \u001b[38;5;241m=\u001b[39m \u001b[38;5;28mself\u001b[39m\u001b[38;5;241m.\u001b[39m_sslobj\u001b[38;5;241m.\u001b[39mread(\u001b[38;5;28mlen\u001b[39m)\n\u001b[0;32m    860\u001b[0m \u001b[38;5;28;01mreturn\u001b[39;00m v\n",
      "\u001b[1;31mSSLWantReadError\u001b[0m: The operation did not complete (read) (_ssl.c:2559)",
      "\nDuring handling of the above exception, another exception occurred:\n",
      "\u001b[1;31mCancelledError\u001b[0m                            Traceback (most recent call last)",
      "Cell \u001b[1;32mIn[13], line 6\u001b[0m\n\u001b[0;32m      3\u001b[0m \u001b[38;5;28;01mfor\u001b[39;00m i \u001b[38;5;129;01min\u001b[39;00m \u001b[38;5;28mrange\u001b[39m(\u001b[38;5;28mlen\u001b[39m(data_user)):\n\u001b[0;32m      5\u001b[0m     documents \u001b[38;5;241m=\u001b[39m data_user[\u001b[38;5;124m\"\u001b[39m\u001b[38;5;124muser_list_doc\u001b[39m\u001b[38;5;124m\"\u001b[39m][i]  \n\u001b[1;32m----> 6\u001b[0m     state \u001b[38;5;241m=\u001b[39m \u001b[38;5;28;01mawait\u001b[39;00m app\u001b[38;5;241m.\u001b[39mainvoke({\u001b[38;5;124m\"\u001b[39m\u001b[38;5;124mcontents\u001b[39m\u001b[38;5;124m\"\u001b[39m: [doc\u001b[38;5;241m.\u001b[39mpage_content \u001b[38;5;28;01mfor\u001b[39;00m doc \u001b[38;5;129;01min\u001b[39;00m documents], \u001b[38;5;124m\"\u001b[39m\u001b[38;5;124mextra_args\u001b[39m\u001b[38;5;124m\"\u001b[39m: {\u001b[38;5;124m\"\u001b[39m\u001b[38;5;124mllm\u001b[39m\u001b[38;5;124m\"\u001b[39m: llm}})\n\u001b[0;32m      8\u001b[0m     summary_document \u001b[38;5;241m=\u001b[39m Document(\n\u001b[0;32m      9\u001b[0m         page_content\u001b[38;5;241m=\u001b[39mstate[\u001b[38;5;124m\"\u001b[39m\u001b[38;5;124msummary\u001b[39m\u001b[38;5;124m\"\u001b[39m], \n\u001b[0;32m     10\u001b[0m         metadata\u001b[38;5;241m=\u001b[39m{\u001b[38;5;124m\"\u001b[39m\u001b[38;5;124muser_id\u001b[39m\u001b[38;5;124m\"\u001b[39m: data_user[\u001b[38;5;124m\"\u001b[39m\u001b[38;5;124muser_id\u001b[39m\u001b[38;5;124m\"\u001b[39m][i], \u001b[38;5;124m\"\u001b[39m\u001b[38;5;124mtopic_user\u001b[39m\u001b[38;5;124m\"\u001b[39m: data_user[\u001b[38;5;124m\"\u001b[39m\u001b[38;5;124muser_topic\u001b[39m\u001b[38;5;124m\"\u001b[39m][i]} \n\u001b[0;32m     11\u001b[0m     )\n\u001b[0;32m     12\u001b[0m     output\u001b[38;5;241m.\u001b[39mappend(summary_document)  \n",
      "File \u001b[1;32mc:\\Users\\amine\\Anaconda3\\Lib\\site-packages\\langgraph\\pregel\\__init__.py:1971\u001b[0m, in \u001b[0;36mPregel.ainvoke\u001b[1;34m(self, input, config, stream_mode, output_keys, interrupt_before, interrupt_after, debug, **kwargs)\u001b[0m\n\u001b[0;32m   1969\u001b[0m \u001b[38;5;28;01melse\u001b[39;00m:\n\u001b[0;32m   1970\u001b[0m     chunks \u001b[38;5;241m=\u001b[39m []\n\u001b[1;32m-> 1971\u001b[0m \u001b[38;5;28;01masync\u001b[39;00m \u001b[38;5;28;01mfor\u001b[39;00m chunk \u001b[38;5;129;01min\u001b[39;00m \u001b[38;5;28mself\u001b[39m\u001b[38;5;241m.\u001b[39mastream(\n\u001b[0;32m   1972\u001b[0m     \u001b[38;5;28minput\u001b[39m,\n\u001b[0;32m   1973\u001b[0m     config,\n\u001b[0;32m   1974\u001b[0m     stream_mode\u001b[38;5;241m=\u001b[39mstream_mode,\n\u001b[0;32m   1975\u001b[0m     output_keys\u001b[38;5;241m=\u001b[39moutput_keys,\n\u001b[0;32m   1976\u001b[0m     interrupt_before\u001b[38;5;241m=\u001b[39minterrupt_before,\n\u001b[0;32m   1977\u001b[0m     interrupt_after\u001b[38;5;241m=\u001b[39minterrupt_after,\n\u001b[0;32m   1978\u001b[0m     debug\u001b[38;5;241m=\u001b[39mdebug,\n\u001b[0;32m   1979\u001b[0m     \u001b[38;5;241m*\u001b[39m\u001b[38;5;241m*\u001b[39mkwargs,\n\u001b[0;32m   1980\u001b[0m ):\n\u001b[0;32m   1981\u001b[0m     \u001b[38;5;28;01mif\u001b[39;00m stream_mode \u001b[38;5;241m==\u001b[39m \u001b[38;5;124m\"\u001b[39m\u001b[38;5;124mvalues\u001b[39m\u001b[38;5;124m\"\u001b[39m:\n\u001b[0;32m   1982\u001b[0m         latest \u001b[38;5;241m=\u001b[39m chunk\n",
      "File \u001b[1;32mc:\\Users\\amine\\Anaconda3\\Lib\\site-packages\\langgraph\\pregel\\__init__.py:1856\u001b[0m, in \u001b[0;36mPregel.astream\u001b[1;34m(self, input, config, stream_mode, output_keys, interrupt_before, interrupt_after, debug, subgraphs)\u001b[0m\n\u001b[0;32m   1850\u001b[0m \u001b[38;5;66;03m# Similarly to Bulk Synchronous Parallel / Pregel model\u001b[39;00m\n\u001b[0;32m   1851\u001b[0m \u001b[38;5;66;03m# computation proceeds in steps, while there are channel updates\u001b[39;00m\n\u001b[0;32m   1852\u001b[0m \u001b[38;5;66;03m# channel updates from step N are only visible in step N+1\u001b[39;00m\n\u001b[0;32m   1853\u001b[0m \u001b[38;5;66;03m# channels are guaranteed to be immutable for the duration of the step,\u001b[39;00m\n\u001b[0;32m   1854\u001b[0m \u001b[38;5;66;03m# with channel updates applied only at the transition between steps\u001b[39;00m\n\u001b[0;32m   1855\u001b[0m \u001b[38;5;28;01mwhile\u001b[39;00m loop\u001b[38;5;241m.\u001b[39mtick(input_keys\u001b[38;5;241m=\u001b[39m\u001b[38;5;28mself\u001b[39m\u001b[38;5;241m.\u001b[39minput_channels):\n\u001b[1;32m-> 1856\u001b[0m     \u001b[38;5;28;01masync\u001b[39;00m \u001b[38;5;28;01mfor\u001b[39;00m _ \u001b[38;5;129;01min\u001b[39;00m runner\u001b[38;5;241m.\u001b[39matick(\n\u001b[0;32m   1857\u001b[0m         loop\u001b[38;5;241m.\u001b[39mtasks\u001b[38;5;241m.\u001b[39mvalues(),\n\u001b[0;32m   1858\u001b[0m         timeout\u001b[38;5;241m=\u001b[39m\u001b[38;5;28mself\u001b[39m\u001b[38;5;241m.\u001b[39mstep_timeout,\n\u001b[0;32m   1859\u001b[0m         retry_policy\u001b[38;5;241m=\u001b[39m\u001b[38;5;28mself\u001b[39m\u001b[38;5;241m.\u001b[39mretry_policy,\n\u001b[0;32m   1860\u001b[0m         get_waiter\u001b[38;5;241m=\u001b[39mget_waiter,\n\u001b[0;32m   1861\u001b[0m     ):\n\u001b[0;32m   1862\u001b[0m         \u001b[38;5;66;03m# emit output\u001b[39;00m\n\u001b[0;32m   1863\u001b[0m         \u001b[38;5;28;01mfor\u001b[39;00m o \u001b[38;5;129;01min\u001b[39;00m output():\n\u001b[0;32m   1864\u001b[0m             \u001b[38;5;28;01myield\u001b[39;00m o\n",
      "File \u001b[1;32mc:\\Users\\amine\\Anaconda3\\Lib\\site-packages\\langgraph\\pregel\\runner.py:221\u001b[0m, in \u001b[0;36mPregelRunner.atick\u001b[1;34m(self, tasks, reraise, timeout, retry_policy, get_waiter)\u001b[0m\n\u001b[0;32m    219\u001b[0m t \u001b[38;5;241m=\u001b[39m tasks[\u001b[38;5;241m0\u001b[39m]\n\u001b[0;32m    220\u001b[0m \u001b[38;5;28;01mtry\u001b[39;00m:\n\u001b[1;32m--> 221\u001b[0m     \u001b[38;5;28;01mawait\u001b[39;00m arun_with_retry(\n\u001b[0;32m    222\u001b[0m         t, retry_policy, stream\u001b[38;5;241m=\u001b[39m\u001b[38;5;28mself\u001b[39m\u001b[38;5;241m.\u001b[39muse_astream, writer\u001b[38;5;241m=\u001b[39mwriter\n\u001b[0;32m    223\u001b[0m     )\n\u001b[0;32m    224\u001b[0m     \u001b[38;5;28mself\u001b[39m\u001b[38;5;241m.\u001b[39mcommit(t, \u001b[38;5;28;01mNone\u001b[39;00m)\n\u001b[0;32m    225\u001b[0m \u001b[38;5;28;01mexcept\u001b[39;00m \u001b[38;5;167;01mException\u001b[39;00m \u001b[38;5;28;01mas\u001b[39;00m exc:\n",
      "File \u001b[1;32mc:\\Users\\amine\\Anaconda3\\Lib\\site-packages\\langgraph\\pregel\\retry.py:118\u001b[0m, in \u001b[0;36marun_with_retry\u001b[1;34m(task, retry_policy, stream, writer)\u001b[0m\n\u001b[0;32m    116\u001b[0m         \u001b[38;5;28;01mpass\u001b[39;00m\n\u001b[0;32m    117\u001b[0m \u001b[38;5;28;01melse\u001b[39;00m:\n\u001b[1;32m--> 118\u001b[0m     \u001b[38;5;28;01mawait\u001b[39;00m task\u001b[38;5;241m.\u001b[39mproc\u001b[38;5;241m.\u001b[39mainvoke(task\u001b[38;5;241m.\u001b[39minput, config)\n\u001b[0;32m    119\u001b[0m \u001b[38;5;66;03m# if successful, end\u001b[39;00m\n\u001b[0;32m    120\u001b[0m \u001b[38;5;28;01mbreak\u001b[39;00m\n",
      "File \u001b[1;32mc:\\Users\\amine\\Anaconda3\\Lib\\site-packages\\langgraph\\utils\\runnable.py:453\u001b[0m, in \u001b[0;36mRunnableSeq.ainvoke\u001b[1;34m(self, input, config, **kwargs)\u001b[0m\n\u001b[0;32m    451\u001b[0m     coro \u001b[38;5;241m=\u001b[39m step\u001b[38;5;241m.\u001b[39mainvoke(\u001b[38;5;28minput\u001b[39m, config)\n\u001b[0;32m    452\u001b[0m \u001b[38;5;28;01mif\u001b[39;00m ASYNCIO_ACCEPTS_CONTEXT:\n\u001b[1;32m--> 453\u001b[0m     \u001b[38;5;28minput\u001b[39m \u001b[38;5;241m=\u001b[39m \u001b[38;5;28;01mawait\u001b[39;00m asyncio\u001b[38;5;241m.\u001b[39mcreate_task(coro, context\u001b[38;5;241m=\u001b[39mcontext)\n\u001b[0;32m    454\u001b[0m \u001b[38;5;28;01melse\u001b[39;00m:\n\u001b[0;32m    455\u001b[0m     \u001b[38;5;28minput\u001b[39m \u001b[38;5;241m=\u001b[39m \u001b[38;5;28;01mawait\u001b[39;00m asyncio\u001b[38;5;241m.\u001b[39mcreate_task(coro)\n",
      "File \u001b[1;32mc:\\Users\\amine\\Anaconda3\\Lib\\site-packages\\langgraph\\utils\\runnable.py:236\u001b[0m, in \u001b[0;36mRunnableCallable.ainvoke\u001b[1;34m(self, input, config, **kwargs)\u001b[0m\n\u001b[0;32m    234\u001b[0m \u001b[38;5;28;01mif\u001b[39;00m ASYNCIO_ACCEPTS_CONTEXT:\n\u001b[0;32m    235\u001b[0m     coro \u001b[38;5;241m=\u001b[39m cast(Coroutine[\u001b[38;5;28;01mNone\u001b[39;00m, \u001b[38;5;28;01mNone\u001b[39;00m, Any], \u001b[38;5;28mself\u001b[39m\u001b[38;5;241m.\u001b[39mafunc(\u001b[38;5;28minput\u001b[39m, \u001b[38;5;241m*\u001b[39m\u001b[38;5;241m*\u001b[39mkwargs))\n\u001b[1;32m--> 236\u001b[0m     ret \u001b[38;5;241m=\u001b[39m \u001b[38;5;28;01mawait\u001b[39;00m asyncio\u001b[38;5;241m.\u001b[39mcreate_task(coro, context\u001b[38;5;241m=\u001b[39mcontext)\n\u001b[0;32m    237\u001b[0m \u001b[38;5;28;01melse\u001b[39;00m:\n\u001b[0;32m    238\u001b[0m     ret \u001b[38;5;241m=\u001b[39m \u001b[38;5;28;01mawait\u001b[39;00m \u001b[38;5;28mself\u001b[39m\u001b[38;5;241m.\u001b[39mafunc(\u001b[38;5;28minput\u001b[39m, \u001b[38;5;241m*\u001b[39m\u001b[38;5;241m*\u001b[39mkwargs)\n",
      "File \u001b[1;32mc:\\Users\\amine\\OneDrive\\Bureau\\hackaton_AI_prototype\\graph_user.py:62\u001b[0m, in \u001b[0;36mrefine_summary\u001b[1;34m(state, config)\u001b[0m\n\u001b[0;32m     60\u001b[0m refine_summary_chain \u001b[38;5;241m=\u001b[39m get_refine_summary_chain(llm)\n\u001b[0;32m     61\u001b[0m content \u001b[38;5;241m=\u001b[39m state[\u001b[38;5;124m\"\u001b[39m\u001b[38;5;124mcontents\u001b[39m\u001b[38;5;124m\"\u001b[39m][state[\u001b[38;5;124m\"\u001b[39m\u001b[38;5;124mindex\u001b[39m\u001b[38;5;124m\"\u001b[39m]]\n\u001b[1;32m---> 62\u001b[0m summary \u001b[38;5;241m=\u001b[39m \u001b[38;5;28;01mawait\u001b[39;00m refine_summary_chain\u001b[38;5;241m.\u001b[39mainvoke(\n\u001b[0;32m     63\u001b[0m     {\u001b[38;5;124m\"\u001b[39m\u001b[38;5;124mexisting_answer\u001b[39m\u001b[38;5;124m\"\u001b[39m: state[\u001b[38;5;124m\"\u001b[39m\u001b[38;5;124msummary\u001b[39m\u001b[38;5;124m\"\u001b[39m], \u001b[38;5;124m\"\u001b[39m\u001b[38;5;124mcontext\u001b[39m\u001b[38;5;124m\"\u001b[39m: content},\n\u001b[0;32m     64\u001b[0m     config,\n\u001b[0;32m     65\u001b[0m )\n\u001b[0;32m     66\u001b[0m \u001b[38;5;28;01mreturn\u001b[39;00m {\u001b[38;5;124m\"\u001b[39m\u001b[38;5;124msummary\u001b[39m\u001b[38;5;124m\"\u001b[39m: summary, \u001b[38;5;124m\"\u001b[39m\u001b[38;5;124mindex\u001b[39m\u001b[38;5;124m\"\u001b[39m: state[\u001b[38;5;124m\"\u001b[39m\u001b[38;5;124mindex\u001b[39m\u001b[38;5;124m\"\u001b[39m] \u001b[38;5;241m+\u001b[39m \u001b[38;5;241m1\u001b[39m}\n",
      "File \u001b[1;32mc:\\Users\\amine\\Anaconda3\\Lib\\site-packages\\langchain_core\\runnables\\base.py:3066\u001b[0m, in \u001b[0;36mRunnableSequence.ainvoke\u001b[1;34m(self, input, config, **kwargs)\u001b[0m\n\u001b[0;32m   3064\u001b[0m     part \u001b[38;5;241m=\u001b[39m functools\u001b[38;5;241m.\u001b[39mpartial(step\u001b[38;5;241m.\u001b[39mainvoke, \u001b[38;5;28minput\u001b[39m, config)\n\u001b[0;32m   3065\u001b[0m \u001b[38;5;28;01mif\u001b[39;00m asyncio_accepts_context():\n\u001b[1;32m-> 3066\u001b[0m     \u001b[38;5;28minput\u001b[39m \u001b[38;5;241m=\u001b[39m \u001b[38;5;28;01mawait\u001b[39;00m asyncio\u001b[38;5;241m.\u001b[39mcreate_task(part(), context\u001b[38;5;241m=\u001b[39mcontext)  \u001b[38;5;66;03m# type: ignore\u001b[39;00m\n\u001b[0;32m   3067\u001b[0m \u001b[38;5;28;01melse\u001b[39;00m:\n\u001b[0;32m   3068\u001b[0m     \u001b[38;5;28minput\u001b[39m \u001b[38;5;241m=\u001b[39m \u001b[38;5;28;01mawait\u001b[39;00m asyncio\u001b[38;5;241m.\u001b[39mcreate_task(part())\n",
      "File \u001b[1;32mc:\\Users\\amine\\Anaconda3\\Lib\\site-packages\\langchain_core\\language_models\\chat_models.py:307\u001b[0m, in \u001b[0;36mBaseChatModel.ainvoke\u001b[1;34m(self, input, config, stop, **kwargs)\u001b[0m\n\u001b[0;32m    298\u001b[0m \u001b[38;5;28;01masync\u001b[39;00m \u001b[38;5;28;01mdef\u001b[39;00m \u001b[38;5;21mainvoke\u001b[39m(\n\u001b[0;32m    299\u001b[0m     \u001b[38;5;28mself\u001b[39m,\n\u001b[0;32m    300\u001b[0m     \u001b[38;5;28minput\u001b[39m: LanguageModelInput,\n\u001b[1;32m   (...)\u001b[0m\n\u001b[0;32m    304\u001b[0m     \u001b[38;5;241m*\u001b[39m\u001b[38;5;241m*\u001b[39mkwargs: Any,\n\u001b[0;32m    305\u001b[0m ) \u001b[38;5;241m-\u001b[39m\u001b[38;5;241m>\u001b[39m BaseMessage:\n\u001b[0;32m    306\u001b[0m     config \u001b[38;5;241m=\u001b[39m ensure_config(config)\n\u001b[1;32m--> 307\u001b[0m     llm_result \u001b[38;5;241m=\u001b[39m \u001b[38;5;28;01mawait\u001b[39;00m \u001b[38;5;28mself\u001b[39m\u001b[38;5;241m.\u001b[39magenerate_prompt(\n\u001b[0;32m    308\u001b[0m         [\u001b[38;5;28mself\u001b[39m\u001b[38;5;241m.\u001b[39m_convert_input(\u001b[38;5;28minput\u001b[39m)],\n\u001b[0;32m    309\u001b[0m         stop\u001b[38;5;241m=\u001b[39mstop,\n\u001b[0;32m    310\u001b[0m         callbacks\u001b[38;5;241m=\u001b[39mconfig\u001b[38;5;241m.\u001b[39mget(\u001b[38;5;124m\"\u001b[39m\u001b[38;5;124mcallbacks\u001b[39m\u001b[38;5;124m\"\u001b[39m),\n\u001b[0;32m    311\u001b[0m         tags\u001b[38;5;241m=\u001b[39mconfig\u001b[38;5;241m.\u001b[39mget(\u001b[38;5;124m\"\u001b[39m\u001b[38;5;124mtags\u001b[39m\u001b[38;5;124m\"\u001b[39m),\n\u001b[0;32m    312\u001b[0m         metadata\u001b[38;5;241m=\u001b[39mconfig\u001b[38;5;241m.\u001b[39mget(\u001b[38;5;124m\"\u001b[39m\u001b[38;5;124mmetadata\u001b[39m\u001b[38;5;124m\"\u001b[39m),\n\u001b[0;32m    313\u001b[0m         run_name\u001b[38;5;241m=\u001b[39mconfig\u001b[38;5;241m.\u001b[39mget(\u001b[38;5;124m\"\u001b[39m\u001b[38;5;124mrun_name\u001b[39m\u001b[38;5;124m\"\u001b[39m),\n\u001b[0;32m    314\u001b[0m         run_id\u001b[38;5;241m=\u001b[39mconfig\u001b[38;5;241m.\u001b[39mpop(\u001b[38;5;124m\"\u001b[39m\u001b[38;5;124mrun_id\u001b[39m\u001b[38;5;124m\"\u001b[39m, \u001b[38;5;28;01mNone\u001b[39;00m),\n\u001b[0;32m    315\u001b[0m         \u001b[38;5;241m*\u001b[39m\u001b[38;5;241m*\u001b[39mkwargs,\n\u001b[0;32m    316\u001b[0m     )\n\u001b[0;32m    317\u001b[0m     \u001b[38;5;28;01mreturn\u001b[39;00m cast(ChatGeneration, llm_result\u001b[38;5;241m.\u001b[39mgenerations[\u001b[38;5;241m0\u001b[39m][\u001b[38;5;241m0\u001b[39m])\u001b[38;5;241m.\u001b[39mmessage\n",
      "File \u001b[1;32mc:\\Users\\amine\\Anaconda3\\Lib\\site-packages\\langchain_core\\language_models\\chat_models.py:796\u001b[0m, in \u001b[0;36mBaseChatModel.agenerate_prompt\u001b[1;34m(self, prompts, stop, callbacks, **kwargs)\u001b[0m\n\u001b[0;32m    788\u001b[0m \u001b[38;5;28;01masync\u001b[39;00m \u001b[38;5;28;01mdef\u001b[39;00m \u001b[38;5;21magenerate_prompt\u001b[39m(\n\u001b[0;32m    789\u001b[0m     \u001b[38;5;28mself\u001b[39m,\n\u001b[0;32m    790\u001b[0m     prompts: \u001b[38;5;28mlist\u001b[39m[PromptValue],\n\u001b[1;32m   (...)\u001b[0m\n\u001b[0;32m    793\u001b[0m     \u001b[38;5;241m*\u001b[39m\u001b[38;5;241m*\u001b[39mkwargs: Any,\n\u001b[0;32m    794\u001b[0m ) \u001b[38;5;241m-\u001b[39m\u001b[38;5;241m>\u001b[39m LLMResult:\n\u001b[0;32m    795\u001b[0m     prompt_messages \u001b[38;5;241m=\u001b[39m [p\u001b[38;5;241m.\u001b[39mto_messages() \u001b[38;5;28;01mfor\u001b[39;00m p \u001b[38;5;129;01min\u001b[39;00m prompts]\n\u001b[1;32m--> 796\u001b[0m     \u001b[38;5;28;01mreturn\u001b[39;00m \u001b[38;5;28;01mawait\u001b[39;00m \u001b[38;5;28mself\u001b[39m\u001b[38;5;241m.\u001b[39magenerate(\n\u001b[0;32m    797\u001b[0m         prompt_messages, stop\u001b[38;5;241m=\u001b[39mstop, callbacks\u001b[38;5;241m=\u001b[39mcallbacks, \u001b[38;5;241m*\u001b[39m\u001b[38;5;241m*\u001b[39mkwargs\n\u001b[0;32m    798\u001b[0m     )\n",
      "File \u001b[1;32mc:\\Users\\amine\\Anaconda3\\Lib\\site-packages\\langchain_core\\language_models\\chat_models.py:722\u001b[0m, in \u001b[0;36mBaseChatModel.agenerate\u001b[1;34m(self, messages, stop, callbacks, tags, metadata, run_name, run_id, **kwargs)\u001b[0m\n\u001b[0;32m    702\u001b[0m callback_manager \u001b[38;5;241m=\u001b[39m AsyncCallbackManager\u001b[38;5;241m.\u001b[39mconfigure(\n\u001b[0;32m    703\u001b[0m     callbacks,\n\u001b[0;32m    704\u001b[0m     \u001b[38;5;28mself\u001b[39m\u001b[38;5;241m.\u001b[39mcallbacks,\n\u001b[1;32m   (...)\u001b[0m\n\u001b[0;32m    709\u001b[0m     \u001b[38;5;28mself\u001b[39m\u001b[38;5;241m.\u001b[39mmetadata,\n\u001b[0;32m    710\u001b[0m )\n\u001b[0;32m    712\u001b[0m run_managers \u001b[38;5;241m=\u001b[39m \u001b[38;5;28;01mawait\u001b[39;00m callback_manager\u001b[38;5;241m.\u001b[39mon_chat_model_start(\n\u001b[0;32m    713\u001b[0m     \u001b[38;5;28mself\u001b[39m\u001b[38;5;241m.\u001b[39m_serialized,\n\u001b[0;32m    714\u001b[0m     messages,\n\u001b[1;32m   (...)\u001b[0m\n\u001b[0;32m    719\u001b[0m     run_id\u001b[38;5;241m=\u001b[39mrun_id,\n\u001b[0;32m    720\u001b[0m )\n\u001b[1;32m--> 722\u001b[0m results \u001b[38;5;241m=\u001b[39m \u001b[38;5;28;01mawait\u001b[39;00m asyncio\u001b[38;5;241m.\u001b[39mgather(\n\u001b[0;32m    723\u001b[0m     \u001b[38;5;241m*\u001b[39m[\n\u001b[0;32m    724\u001b[0m         \u001b[38;5;28mself\u001b[39m\u001b[38;5;241m.\u001b[39m_agenerate_with_cache(\n\u001b[0;32m    725\u001b[0m             m,\n\u001b[0;32m    726\u001b[0m             stop\u001b[38;5;241m=\u001b[39mstop,\n\u001b[0;32m    727\u001b[0m             run_manager\u001b[38;5;241m=\u001b[39mrun_managers[i] \u001b[38;5;28;01mif\u001b[39;00m run_managers \u001b[38;5;28;01melse\u001b[39;00m \u001b[38;5;28;01mNone\u001b[39;00m,\n\u001b[0;32m    728\u001b[0m             \u001b[38;5;241m*\u001b[39m\u001b[38;5;241m*\u001b[39mkwargs,\n\u001b[0;32m    729\u001b[0m         )\n\u001b[0;32m    730\u001b[0m         \u001b[38;5;28;01mfor\u001b[39;00m i, m \u001b[38;5;129;01min\u001b[39;00m \u001b[38;5;28menumerate\u001b[39m(messages)\n\u001b[0;32m    731\u001b[0m     ],\n\u001b[0;32m    732\u001b[0m     return_exceptions\u001b[38;5;241m=\u001b[39m\u001b[38;5;28;01mTrue\u001b[39;00m,\n\u001b[0;32m    733\u001b[0m )\n\u001b[0;32m    734\u001b[0m exceptions \u001b[38;5;241m=\u001b[39m []\n\u001b[0;32m    735\u001b[0m \u001b[38;5;28;01mfor\u001b[39;00m i, res \u001b[38;5;129;01min\u001b[39;00m \u001b[38;5;28menumerate\u001b[39m(results):\n",
      "File \u001b[1;32mc:\\Users\\amine\\Anaconda3\\Lib\\site-packages\\langchain_core\\language_models\\chat_models.py:924\u001b[0m, in \u001b[0;36mBaseChatModel._agenerate_with_cache\u001b[1;34m(self, messages, stop, run_manager, **kwargs)\u001b[0m\n\u001b[0;32m    922\u001b[0m \u001b[38;5;28;01melse\u001b[39;00m:\n\u001b[0;32m    923\u001b[0m     \u001b[38;5;28;01mif\u001b[39;00m inspect\u001b[38;5;241m.\u001b[39msignature(\u001b[38;5;28mself\u001b[39m\u001b[38;5;241m.\u001b[39m_agenerate)\u001b[38;5;241m.\u001b[39mparameters\u001b[38;5;241m.\u001b[39mget(\u001b[38;5;124m\"\u001b[39m\u001b[38;5;124mrun_manager\u001b[39m\u001b[38;5;124m\"\u001b[39m):\n\u001b[1;32m--> 924\u001b[0m         result \u001b[38;5;241m=\u001b[39m \u001b[38;5;28;01mawait\u001b[39;00m \u001b[38;5;28mself\u001b[39m\u001b[38;5;241m.\u001b[39m_agenerate(\n\u001b[0;32m    925\u001b[0m             messages, stop\u001b[38;5;241m=\u001b[39mstop, run_manager\u001b[38;5;241m=\u001b[39mrun_manager, \u001b[38;5;241m*\u001b[39m\u001b[38;5;241m*\u001b[39mkwargs\n\u001b[0;32m    926\u001b[0m         )\n\u001b[0;32m    927\u001b[0m     \u001b[38;5;28;01melse\u001b[39;00m:\n\u001b[0;32m    928\u001b[0m         result \u001b[38;5;241m=\u001b[39m \u001b[38;5;28;01mawait\u001b[39;00m \u001b[38;5;28mself\u001b[39m\u001b[38;5;241m.\u001b[39m_agenerate(messages, stop\u001b[38;5;241m=\u001b[39mstop, \u001b[38;5;241m*\u001b[39m\u001b[38;5;241m*\u001b[39mkwargs)\n",
      "File \u001b[1;32mc:\\Users\\amine\\Anaconda3\\Lib\\site-packages\\langchain_openai\\chat_models\\base.py:824\u001b[0m, in \u001b[0;36mBaseChatOpenAI._agenerate\u001b[1;34m(self, messages, stop, run_manager, **kwargs)\u001b[0m\n\u001b[0;32m    822\u001b[0m     generation_info \u001b[38;5;241m=\u001b[39m {\u001b[38;5;124m\"\u001b[39m\u001b[38;5;124mheaders\u001b[39m\u001b[38;5;124m\"\u001b[39m: \u001b[38;5;28mdict\u001b[39m(raw_response\u001b[38;5;241m.\u001b[39mheaders)}\n\u001b[0;32m    823\u001b[0m \u001b[38;5;28;01melse\u001b[39;00m:\n\u001b[1;32m--> 824\u001b[0m     response \u001b[38;5;241m=\u001b[39m \u001b[38;5;28;01mawait\u001b[39;00m \u001b[38;5;28mself\u001b[39m\u001b[38;5;241m.\u001b[39masync_client\u001b[38;5;241m.\u001b[39mcreate(\u001b[38;5;241m*\u001b[39m\u001b[38;5;241m*\u001b[39mpayload)\n\u001b[0;32m    825\u001b[0m \u001b[38;5;28;01mreturn\u001b[39;00m \u001b[38;5;28;01mawait\u001b[39;00m run_in_executor(\n\u001b[0;32m    826\u001b[0m     \u001b[38;5;28;01mNone\u001b[39;00m, \u001b[38;5;28mself\u001b[39m\u001b[38;5;241m.\u001b[39m_create_chat_result, response, generation_info\n\u001b[0;32m    827\u001b[0m )\n",
      "File \u001b[1;32mc:\\Users\\amine\\Anaconda3\\Lib\\site-packages\\openai\\resources\\chat\\completions.py:1661\u001b[0m, in \u001b[0;36mAsyncCompletions.create\u001b[1;34m(self, messages, model, audio, frequency_penalty, function_call, functions, logit_bias, logprobs, max_completion_tokens, max_tokens, metadata, modalities, n, parallel_tool_calls, prediction, presence_penalty, response_format, seed, service_tier, stop, store, stream, stream_options, temperature, tool_choice, tools, top_logprobs, top_p, user, extra_headers, extra_query, extra_body, timeout)\u001b[0m\n\u001b[0;32m   1620\u001b[0m \u001b[38;5;129m@required_args\u001b[39m([\u001b[38;5;124m\"\u001b[39m\u001b[38;5;124mmessages\u001b[39m\u001b[38;5;124m\"\u001b[39m, \u001b[38;5;124m\"\u001b[39m\u001b[38;5;124mmodel\u001b[39m\u001b[38;5;124m\"\u001b[39m], [\u001b[38;5;124m\"\u001b[39m\u001b[38;5;124mmessages\u001b[39m\u001b[38;5;124m\"\u001b[39m, \u001b[38;5;124m\"\u001b[39m\u001b[38;5;124mmodel\u001b[39m\u001b[38;5;124m\"\u001b[39m, \u001b[38;5;124m\"\u001b[39m\u001b[38;5;124mstream\u001b[39m\u001b[38;5;124m\"\u001b[39m])\n\u001b[0;32m   1621\u001b[0m \u001b[38;5;28;01masync\u001b[39;00m \u001b[38;5;28;01mdef\u001b[39;00m \u001b[38;5;21mcreate\u001b[39m(\n\u001b[0;32m   1622\u001b[0m     \u001b[38;5;28mself\u001b[39m,\n\u001b[1;32m   (...)\u001b[0m\n\u001b[0;32m   1658\u001b[0m     timeout: \u001b[38;5;28mfloat\u001b[39m \u001b[38;5;241m|\u001b[39m httpx\u001b[38;5;241m.\u001b[39mTimeout \u001b[38;5;241m|\u001b[39m \u001b[38;5;28;01mNone\u001b[39;00m \u001b[38;5;241m|\u001b[39m NotGiven \u001b[38;5;241m=\u001b[39m NOT_GIVEN,\n\u001b[0;32m   1659\u001b[0m ) \u001b[38;5;241m-\u001b[39m\u001b[38;5;241m>\u001b[39m ChatCompletion \u001b[38;5;241m|\u001b[39m AsyncStream[ChatCompletionChunk]:\n\u001b[0;32m   1660\u001b[0m     validate_response_format(response_format)\n\u001b[1;32m-> 1661\u001b[0m     \u001b[38;5;28;01mreturn\u001b[39;00m \u001b[38;5;28;01mawait\u001b[39;00m \u001b[38;5;28mself\u001b[39m\u001b[38;5;241m.\u001b[39m_post(\n\u001b[0;32m   1662\u001b[0m         \u001b[38;5;124m\"\u001b[39m\u001b[38;5;124m/chat/completions\u001b[39m\u001b[38;5;124m\"\u001b[39m,\n\u001b[0;32m   1663\u001b[0m         body\u001b[38;5;241m=\u001b[39m\u001b[38;5;28;01mawait\u001b[39;00m async_maybe_transform(\n\u001b[0;32m   1664\u001b[0m             {\n\u001b[0;32m   1665\u001b[0m                 \u001b[38;5;124m\"\u001b[39m\u001b[38;5;124mmessages\u001b[39m\u001b[38;5;124m\"\u001b[39m: messages,\n\u001b[0;32m   1666\u001b[0m                 \u001b[38;5;124m\"\u001b[39m\u001b[38;5;124mmodel\u001b[39m\u001b[38;5;124m\"\u001b[39m: model,\n\u001b[0;32m   1667\u001b[0m                 \u001b[38;5;124m\"\u001b[39m\u001b[38;5;124maudio\u001b[39m\u001b[38;5;124m\"\u001b[39m: audio,\n\u001b[0;32m   1668\u001b[0m                 \u001b[38;5;124m\"\u001b[39m\u001b[38;5;124mfrequency_penalty\u001b[39m\u001b[38;5;124m\"\u001b[39m: frequency_penalty,\n\u001b[0;32m   1669\u001b[0m                 \u001b[38;5;124m\"\u001b[39m\u001b[38;5;124mfunction_call\u001b[39m\u001b[38;5;124m\"\u001b[39m: function_call,\n\u001b[0;32m   1670\u001b[0m                 \u001b[38;5;124m\"\u001b[39m\u001b[38;5;124mfunctions\u001b[39m\u001b[38;5;124m\"\u001b[39m: functions,\n\u001b[0;32m   1671\u001b[0m                 \u001b[38;5;124m\"\u001b[39m\u001b[38;5;124mlogit_bias\u001b[39m\u001b[38;5;124m\"\u001b[39m: logit_bias,\n\u001b[0;32m   1672\u001b[0m                 \u001b[38;5;124m\"\u001b[39m\u001b[38;5;124mlogprobs\u001b[39m\u001b[38;5;124m\"\u001b[39m: logprobs,\n\u001b[0;32m   1673\u001b[0m                 \u001b[38;5;124m\"\u001b[39m\u001b[38;5;124mmax_completion_tokens\u001b[39m\u001b[38;5;124m\"\u001b[39m: max_completion_tokens,\n\u001b[0;32m   1674\u001b[0m                 \u001b[38;5;124m\"\u001b[39m\u001b[38;5;124mmax_tokens\u001b[39m\u001b[38;5;124m\"\u001b[39m: max_tokens,\n\u001b[0;32m   1675\u001b[0m                 \u001b[38;5;124m\"\u001b[39m\u001b[38;5;124mmetadata\u001b[39m\u001b[38;5;124m\"\u001b[39m: metadata,\n\u001b[0;32m   1676\u001b[0m                 \u001b[38;5;124m\"\u001b[39m\u001b[38;5;124mmodalities\u001b[39m\u001b[38;5;124m\"\u001b[39m: modalities,\n\u001b[0;32m   1677\u001b[0m                 \u001b[38;5;124m\"\u001b[39m\u001b[38;5;124mn\u001b[39m\u001b[38;5;124m\"\u001b[39m: n,\n\u001b[0;32m   1678\u001b[0m                 \u001b[38;5;124m\"\u001b[39m\u001b[38;5;124mparallel_tool_calls\u001b[39m\u001b[38;5;124m\"\u001b[39m: parallel_tool_calls,\n\u001b[0;32m   1679\u001b[0m                 \u001b[38;5;124m\"\u001b[39m\u001b[38;5;124mprediction\u001b[39m\u001b[38;5;124m\"\u001b[39m: prediction,\n\u001b[0;32m   1680\u001b[0m                 \u001b[38;5;124m\"\u001b[39m\u001b[38;5;124mpresence_penalty\u001b[39m\u001b[38;5;124m\"\u001b[39m: presence_penalty,\n\u001b[0;32m   1681\u001b[0m                 \u001b[38;5;124m\"\u001b[39m\u001b[38;5;124mresponse_format\u001b[39m\u001b[38;5;124m\"\u001b[39m: response_format,\n\u001b[0;32m   1682\u001b[0m                 \u001b[38;5;124m\"\u001b[39m\u001b[38;5;124mseed\u001b[39m\u001b[38;5;124m\"\u001b[39m: seed,\n\u001b[0;32m   1683\u001b[0m                 \u001b[38;5;124m\"\u001b[39m\u001b[38;5;124mservice_tier\u001b[39m\u001b[38;5;124m\"\u001b[39m: service_tier,\n\u001b[0;32m   1684\u001b[0m                 \u001b[38;5;124m\"\u001b[39m\u001b[38;5;124mstop\u001b[39m\u001b[38;5;124m\"\u001b[39m: stop,\n\u001b[0;32m   1685\u001b[0m                 \u001b[38;5;124m\"\u001b[39m\u001b[38;5;124mstore\u001b[39m\u001b[38;5;124m\"\u001b[39m: store,\n\u001b[0;32m   1686\u001b[0m                 \u001b[38;5;124m\"\u001b[39m\u001b[38;5;124mstream\u001b[39m\u001b[38;5;124m\"\u001b[39m: stream,\n\u001b[0;32m   1687\u001b[0m                 \u001b[38;5;124m\"\u001b[39m\u001b[38;5;124mstream_options\u001b[39m\u001b[38;5;124m\"\u001b[39m: stream_options,\n\u001b[0;32m   1688\u001b[0m                 \u001b[38;5;124m\"\u001b[39m\u001b[38;5;124mtemperature\u001b[39m\u001b[38;5;124m\"\u001b[39m: temperature,\n\u001b[0;32m   1689\u001b[0m                 \u001b[38;5;124m\"\u001b[39m\u001b[38;5;124mtool_choice\u001b[39m\u001b[38;5;124m\"\u001b[39m: tool_choice,\n\u001b[0;32m   1690\u001b[0m                 \u001b[38;5;124m\"\u001b[39m\u001b[38;5;124mtools\u001b[39m\u001b[38;5;124m\"\u001b[39m: tools,\n\u001b[0;32m   1691\u001b[0m                 \u001b[38;5;124m\"\u001b[39m\u001b[38;5;124mtop_logprobs\u001b[39m\u001b[38;5;124m\"\u001b[39m: top_logprobs,\n\u001b[0;32m   1692\u001b[0m                 \u001b[38;5;124m\"\u001b[39m\u001b[38;5;124mtop_p\u001b[39m\u001b[38;5;124m\"\u001b[39m: top_p,\n\u001b[0;32m   1693\u001b[0m                 \u001b[38;5;124m\"\u001b[39m\u001b[38;5;124muser\u001b[39m\u001b[38;5;124m\"\u001b[39m: user,\n\u001b[0;32m   1694\u001b[0m             },\n\u001b[0;32m   1695\u001b[0m             completion_create_params\u001b[38;5;241m.\u001b[39mCompletionCreateParams,\n\u001b[0;32m   1696\u001b[0m         ),\n\u001b[0;32m   1697\u001b[0m         options\u001b[38;5;241m=\u001b[39mmake_request_options(\n\u001b[0;32m   1698\u001b[0m             extra_headers\u001b[38;5;241m=\u001b[39mextra_headers, extra_query\u001b[38;5;241m=\u001b[39mextra_query, extra_body\u001b[38;5;241m=\u001b[39mextra_body, timeout\u001b[38;5;241m=\u001b[39mtimeout\n\u001b[0;32m   1699\u001b[0m         ),\n\u001b[0;32m   1700\u001b[0m         cast_to\u001b[38;5;241m=\u001b[39mChatCompletion,\n\u001b[0;32m   1701\u001b[0m         stream\u001b[38;5;241m=\u001b[39mstream \u001b[38;5;129;01mor\u001b[39;00m \u001b[38;5;28;01mFalse\u001b[39;00m,\n\u001b[0;32m   1702\u001b[0m         stream_cls\u001b[38;5;241m=\u001b[39mAsyncStream[ChatCompletionChunk],\n\u001b[0;32m   1703\u001b[0m     )\n",
      "File \u001b[1;32mc:\\Users\\amine\\Anaconda3\\Lib\\site-packages\\openai\\_base_client.py:1839\u001b[0m, in \u001b[0;36mAsyncAPIClient.post\u001b[1;34m(self, path, cast_to, body, files, options, stream, stream_cls)\u001b[0m\n\u001b[0;32m   1825\u001b[0m \u001b[38;5;28;01masync\u001b[39;00m \u001b[38;5;28;01mdef\u001b[39;00m \u001b[38;5;21mpost\u001b[39m(\n\u001b[0;32m   1826\u001b[0m     \u001b[38;5;28mself\u001b[39m,\n\u001b[0;32m   1827\u001b[0m     path: \u001b[38;5;28mstr\u001b[39m,\n\u001b[1;32m   (...)\u001b[0m\n\u001b[0;32m   1834\u001b[0m     stream_cls: \u001b[38;5;28mtype\u001b[39m[_AsyncStreamT] \u001b[38;5;241m|\u001b[39m \u001b[38;5;28;01mNone\u001b[39;00m \u001b[38;5;241m=\u001b[39m \u001b[38;5;28;01mNone\u001b[39;00m,\n\u001b[0;32m   1835\u001b[0m ) \u001b[38;5;241m-\u001b[39m\u001b[38;5;241m>\u001b[39m ResponseT \u001b[38;5;241m|\u001b[39m _AsyncStreamT:\n\u001b[0;32m   1836\u001b[0m     opts \u001b[38;5;241m=\u001b[39m FinalRequestOptions\u001b[38;5;241m.\u001b[39mconstruct(\n\u001b[0;32m   1837\u001b[0m         method\u001b[38;5;241m=\u001b[39m\u001b[38;5;124m\"\u001b[39m\u001b[38;5;124mpost\u001b[39m\u001b[38;5;124m\"\u001b[39m, url\u001b[38;5;241m=\u001b[39mpath, json_data\u001b[38;5;241m=\u001b[39mbody, files\u001b[38;5;241m=\u001b[39m\u001b[38;5;28;01mawait\u001b[39;00m async_to_httpx_files(files), \u001b[38;5;241m*\u001b[39m\u001b[38;5;241m*\u001b[39moptions\n\u001b[0;32m   1838\u001b[0m     )\n\u001b[1;32m-> 1839\u001b[0m     \u001b[38;5;28;01mreturn\u001b[39;00m \u001b[38;5;28;01mawait\u001b[39;00m \u001b[38;5;28mself\u001b[39m\u001b[38;5;241m.\u001b[39mrequest(cast_to, opts, stream\u001b[38;5;241m=\u001b[39mstream, stream_cls\u001b[38;5;241m=\u001b[39mstream_cls)\n",
      "File \u001b[1;32mc:\\Users\\amine\\Anaconda3\\Lib\\site-packages\\openai\\_base_client.py:1533\u001b[0m, in \u001b[0;36mAsyncAPIClient.request\u001b[1;34m(self, cast_to, options, stream, stream_cls, remaining_retries)\u001b[0m\n\u001b[0;32m   1530\u001b[0m \u001b[38;5;28;01melse\u001b[39;00m:\n\u001b[0;32m   1531\u001b[0m     retries_taken \u001b[38;5;241m=\u001b[39m \u001b[38;5;241m0\u001b[39m\n\u001b[1;32m-> 1533\u001b[0m \u001b[38;5;28;01mreturn\u001b[39;00m \u001b[38;5;28;01mawait\u001b[39;00m \u001b[38;5;28mself\u001b[39m\u001b[38;5;241m.\u001b[39m_request(\n\u001b[0;32m   1534\u001b[0m     cast_to\u001b[38;5;241m=\u001b[39mcast_to,\n\u001b[0;32m   1535\u001b[0m     options\u001b[38;5;241m=\u001b[39moptions,\n\u001b[0;32m   1536\u001b[0m     stream\u001b[38;5;241m=\u001b[39mstream,\n\u001b[0;32m   1537\u001b[0m     stream_cls\u001b[38;5;241m=\u001b[39mstream_cls,\n\u001b[0;32m   1538\u001b[0m     retries_taken\u001b[38;5;241m=\u001b[39mretries_taken,\n\u001b[0;32m   1539\u001b[0m )\n",
      "File \u001b[1;32mc:\\Users\\amine\\Anaconda3\\Lib\\site-packages\\openai\\_base_client.py:1572\u001b[0m, in \u001b[0;36mAsyncAPIClient._request\u001b[1;34m(self, cast_to, options, stream, stream_cls, retries_taken)\u001b[0m\n\u001b[0;32m   1569\u001b[0m     kwargs[\u001b[38;5;124m\"\u001b[39m\u001b[38;5;124mauth\u001b[39m\u001b[38;5;124m\"\u001b[39m] \u001b[38;5;241m=\u001b[39m \u001b[38;5;28mself\u001b[39m\u001b[38;5;241m.\u001b[39mcustom_auth\n\u001b[0;32m   1571\u001b[0m \u001b[38;5;28;01mtry\u001b[39;00m:\n\u001b[1;32m-> 1572\u001b[0m     response \u001b[38;5;241m=\u001b[39m \u001b[38;5;28;01mawait\u001b[39;00m \u001b[38;5;28mself\u001b[39m\u001b[38;5;241m.\u001b[39m_client\u001b[38;5;241m.\u001b[39msend(\n\u001b[0;32m   1573\u001b[0m         request,\n\u001b[0;32m   1574\u001b[0m         stream\u001b[38;5;241m=\u001b[39mstream \u001b[38;5;129;01mor\u001b[39;00m \u001b[38;5;28mself\u001b[39m\u001b[38;5;241m.\u001b[39m_should_stream_response_body(request\u001b[38;5;241m=\u001b[39mrequest),\n\u001b[0;32m   1575\u001b[0m         \u001b[38;5;241m*\u001b[39m\u001b[38;5;241m*\u001b[39mkwargs,\n\u001b[0;32m   1576\u001b[0m     )\n\u001b[0;32m   1577\u001b[0m \u001b[38;5;28;01mexcept\u001b[39;00m httpx\u001b[38;5;241m.\u001b[39mTimeoutException \u001b[38;5;28;01mas\u001b[39;00m err:\n\u001b[0;32m   1578\u001b[0m     log\u001b[38;5;241m.\u001b[39mdebug(\u001b[38;5;124m\"\u001b[39m\u001b[38;5;124mEncountered httpx.TimeoutException\u001b[39m\u001b[38;5;124m\"\u001b[39m, exc_info\u001b[38;5;241m=\u001b[39m\u001b[38;5;28;01mTrue\u001b[39;00m)\n",
      "File \u001b[1;32mc:\\Users\\amine\\Anaconda3\\Lib\\site-packages\\httpx\\_client.py:1661\u001b[0m, in \u001b[0;36mAsyncClient.send\u001b[1;34m(self, request, stream, auth, follow_redirects)\u001b[0m\n\u001b[0;32m   1653\u001b[0m follow_redirects \u001b[38;5;241m=\u001b[39m (\n\u001b[0;32m   1654\u001b[0m     \u001b[38;5;28mself\u001b[39m\u001b[38;5;241m.\u001b[39mfollow_redirects\n\u001b[0;32m   1655\u001b[0m     \u001b[38;5;28;01mif\u001b[39;00m \u001b[38;5;28misinstance\u001b[39m(follow_redirects, UseClientDefault)\n\u001b[0;32m   1656\u001b[0m     \u001b[38;5;28;01melse\u001b[39;00m follow_redirects\n\u001b[0;32m   1657\u001b[0m )\n\u001b[0;32m   1659\u001b[0m auth \u001b[38;5;241m=\u001b[39m \u001b[38;5;28mself\u001b[39m\u001b[38;5;241m.\u001b[39m_build_request_auth(request, auth)\n\u001b[1;32m-> 1661\u001b[0m response \u001b[38;5;241m=\u001b[39m \u001b[38;5;28;01mawait\u001b[39;00m \u001b[38;5;28mself\u001b[39m\u001b[38;5;241m.\u001b[39m_send_handling_auth(\n\u001b[0;32m   1662\u001b[0m     request,\n\u001b[0;32m   1663\u001b[0m     auth\u001b[38;5;241m=\u001b[39mauth,\n\u001b[0;32m   1664\u001b[0m     follow_redirects\u001b[38;5;241m=\u001b[39mfollow_redirects,\n\u001b[0;32m   1665\u001b[0m     history\u001b[38;5;241m=\u001b[39m[],\n\u001b[0;32m   1666\u001b[0m )\n\u001b[0;32m   1667\u001b[0m \u001b[38;5;28;01mtry\u001b[39;00m:\n\u001b[0;32m   1668\u001b[0m     \u001b[38;5;28;01mif\u001b[39;00m \u001b[38;5;129;01mnot\u001b[39;00m stream:\n",
      "File \u001b[1;32mc:\\Users\\amine\\Anaconda3\\Lib\\site-packages\\httpx\\_client.py:1689\u001b[0m, in \u001b[0;36mAsyncClient._send_handling_auth\u001b[1;34m(self, request, auth, follow_redirects, history)\u001b[0m\n\u001b[0;32m   1686\u001b[0m request \u001b[38;5;241m=\u001b[39m \u001b[38;5;28;01mawait\u001b[39;00m auth_flow\u001b[38;5;241m.\u001b[39m\u001b[38;5;21m__anext__\u001b[39m()\n\u001b[0;32m   1688\u001b[0m \u001b[38;5;28;01mwhile\u001b[39;00m \u001b[38;5;28;01mTrue\u001b[39;00m:\n\u001b[1;32m-> 1689\u001b[0m     response \u001b[38;5;241m=\u001b[39m \u001b[38;5;28;01mawait\u001b[39;00m \u001b[38;5;28mself\u001b[39m\u001b[38;5;241m.\u001b[39m_send_handling_redirects(\n\u001b[0;32m   1690\u001b[0m         request,\n\u001b[0;32m   1691\u001b[0m         follow_redirects\u001b[38;5;241m=\u001b[39mfollow_redirects,\n\u001b[0;32m   1692\u001b[0m         history\u001b[38;5;241m=\u001b[39mhistory,\n\u001b[0;32m   1693\u001b[0m     )\n\u001b[0;32m   1694\u001b[0m     \u001b[38;5;28;01mtry\u001b[39;00m:\n\u001b[0;32m   1695\u001b[0m         \u001b[38;5;28;01mtry\u001b[39;00m:\n",
      "File \u001b[1;32mc:\\Users\\amine\\Anaconda3\\Lib\\site-packages\\httpx\\_client.py:1726\u001b[0m, in \u001b[0;36mAsyncClient._send_handling_redirects\u001b[1;34m(self, request, follow_redirects, history)\u001b[0m\n\u001b[0;32m   1723\u001b[0m \u001b[38;5;28;01mfor\u001b[39;00m hook \u001b[38;5;129;01min\u001b[39;00m \u001b[38;5;28mself\u001b[39m\u001b[38;5;241m.\u001b[39m_event_hooks[\u001b[38;5;124m\"\u001b[39m\u001b[38;5;124mrequest\u001b[39m\u001b[38;5;124m\"\u001b[39m]:\n\u001b[0;32m   1724\u001b[0m     \u001b[38;5;28;01mawait\u001b[39;00m hook(request)\n\u001b[1;32m-> 1726\u001b[0m response \u001b[38;5;241m=\u001b[39m \u001b[38;5;28;01mawait\u001b[39;00m \u001b[38;5;28mself\u001b[39m\u001b[38;5;241m.\u001b[39m_send_single_request(request)\n\u001b[0;32m   1727\u001b[0m \u001b[38;5;28;01mtry\u001b[39;00m:\n\u001b[0;32m   1728\u001b[0m     \u001b[38;5;28;01mfor\u001b[39;00m hook \u001b[38;5;129;01min\u001b[39;00m \u001b[38;5;28mself\u001b[39m\u001b[38;5;241m.\u001b[39m_event_hooks[\u001b[38;5;124m\"\u001b[39m\u001b[38;5;124mresponse\u001b[39m\u001b[38;5;124m\"\u001b[39m]:\n",
      "File \u001b[1;32mc:\\Users\\amine\\Anaconda3\\Lib\\site-packages\\httpx\\_client.py:1763\u001b[0m, in \u001b[0;36mAsyncClient._send_single_request\u001b[1;34m(self, request)\u001b[0m\n\u001b[0;32m   1758\u001b[0m     \u001b[38;5;28;01mraise\u001b[39;00m \u001b[38;5;167;01mRuntimeError\u001b[39;00m(\n\u001b[0;32m   1759\u001b[0m         \u001b[38;5;124m\"\u001b[39m\u001b[38;5;124mAttempted to send an sync request with an AsyncClient instance.\u001b[39m\u001b[38;5;124m\"\u001b[39m\n\u001b[0;32m   1760\u001b[0m     )\n\u001b[0;32m   1762\u001b[0m \u001b[38;5;28;01mwith\u001b[39;00m request_context(request\u001b[38;5;241m=\u001b[39mrequest):\n\u001b[1;32m-> 1763\u001b[0m     response \u001b[38;5;241m=\u001b[39m \u001b[38;5;28;01mawait\u001b[39;00m transport\u001b[38;5;241m.\u001b[39mhandle_async_request(request)\n\u001b[0;32m   1765\u001b[0m \u001b[38;5;28;01massert\u001b[39;00m \u001b[38;5;28misinstance\u001b[39m(response\u001b[38;5;241m.\u001b[39mstream, AsyncByteStream)\n\u001b[0;32m   1766\u001b[0m response\u001b[38;5;241m.\u001b[39mrequest \u001b[38;5;241m=\u001b[39m request\n",
      "File \u001b[1;32mc:\\Users\\amine\\Anaconda3\\Lib\\site-packages\\httpx\\_transports\\default.py:373\u001b[0m, in \u001b[0;36mAsyncHTTPTransport.handle_async_request\u001b[1;34m(self, request)\u001b[0m\n\u001b[0;32m    360\u001b[0m req \u001b[38;5;241m=\u001b[39m httpcore\u001b[38;5;241m.\u001b[39mRequest(\n\u001b[0;32m    361\u001b[0m     method\u001b[38;5;241m=\u001b[39mrequest\u001b[38;5;241m.\u001b[39mmethod,\n\u001b[0;32m    362\u001b[0m     url\u001b[38;5;241m=\u001b[39mhttpcore\u001b[38;5;241m.\u001b[39mURL(\n\u001b[1;32m   (...)\u001b[0m\n\u001b[0;32m    370\u001b[0m     extensions\u001b[38;5;241m=\u001b[39mrequest\u001b[38;5;241m.\u001b[39mextensions,\n\u001b[0;32m    371\u001b[0m )\n\u001b[0;32m    372\u001b[0m \u001b[38;5;28;01mwith\u001b[39;00m map_httpcore_exceptions():\n\u001b[1;32m--> 373\u001b[0m     resp \u001b[38;5;241m=\u001b[39m \u001b[38;5;28;01mawait\u001b[39;00m \u001b[38;5;28mself\u001b[39m\u001b[38;5;241m.\u001b[39m_pool\u001b[38;5;241m.\u001b[39mhandle_async_request(req)\n\u001b[0;32m    375\u001b[0m \u001b[38;5;28;01massert\u001b[39;00m \u001b[38;5;28misinstance\u001b[39m(resp\u001b[38;5;241m.\u001b[39mstream, typing\u001b[38;5;241m.\u001b[39mAsyncIterable)\n\u001b[0;32m    377\u001b[0m \u001b[38;5;28;01mreturn\u001b[39;00m Response(\n\u001b[0;32m    378\u001b[0m     status_code\u001b[38;5;241m=\u001b[39mresp\u001b[38;5;241m.\u001b[39mstatus,\n\u001b[0;32m    379\u001b[0m     headers\u001b[38;5;241m=\u001b[39mresp\u001b[38;5;241m.\u001b[39mheaders,\n\u001b[0;32m    380\u001b[0m     stream\u001b[38;5;241m=\u001b[39mAsyncResponseStream(resp\u001b[38;5;241m.\u001b[39mstream),\n\u001b[0;32m    381\u001b[0m     extensions\u001b[38;5;241m=\u001b[39mresp\u001b[38;5;241m.\u001b[39mextensions,\n\u001b[0;32m    382\u001b[0m )\n",
      "File \u001b[1;32mc:\\Users\\amine\\Anaconda3\\Lib\\site-packages\\httpcore\\_async\\connection_pool.py:268\u001b[0m, in \u001b[0;36mAsyncConnectionPool.handle_async_request\u001b[1;34m(self, request)\u001b[0m\n\u001b[0;32m    266\u001b[0m     \u001b[38;5;28;01mwith\u001b[39;00m AsyncShieldCancellation():\n\u001b[0;32m    267\u001b[0m         \u001b[38;5;28;01mawait\u001b[39;00m \u001b[38;5;28mself\u001b[39m\u001b[38;5;241m.\u001b[39mresponse_closed(status)\n\u001b[1;32m--> 268\u001b[0m     \u001b[38;5;28;01mraise\u001b[39;00m exc\n\u001b[0;32m    269\u001b[0m \u001b[38;5;28;01melse\u001b[39;00m:\n\u001b[0;32m    270\u001b[0m     \u001b[38;5;28;01mbreak\u001b[39;00m\n",
      "File \u001b[1;32mc:\\Users\\amine\\Anaconda3\\Lib\\site-packages\\httpcore\\_async\\connection_pool.py:251\u001b[0m, in \u001b[0;36mAsyncConnectionPool.handle_async_request\u001b[1;34m(self, request)\u001b[0m\n\u001b[0;32m    248\u001b[0m         \u001b[38;5;28;01mraise\u001b[39;00m exc\n\u001b[0;32m    250\u001b[0m \u001b[38;5;28;01mtry\u001b[39;00m:\n\u001b[1;32m--> 251\u001b[0m     response \u001b[38;5;241m=\u001b[39m \u001b[38;5;28;01mawait\u001b[39;00m connection\u001b[38;5;241m.\u001b[39mhandle_async_request(request)\n\u001b[0;32m    252\u001b[0m \u001b[38;5;28;01mexcept\u001b[39;00m ConnectionNotAvailable:\n\u001b[0;32m    253\u001b[0m     \u001b[38;5;66;03m# The ConnectionNotAvailable exception is a special case, that\u001b[39;00m\n\u001b[0;32m    254\u001b[0m     \u001b[38;5;66;03m# indicates we need to retry the request on a new connection.\u001b[39;00m\n\u001b[1;32m   (...)\u001b[0m\n\u001b[0;32m    258\u001b[0m     \u001b[38;5;66;03m# might end up as an HTTP/2 connection, but which actually ends\u001b[39;00m\n\u001b[0;32m    259\u001b[0m     \u001b[38;5;66;03m# up as HTTP/1.1.\u001b[39;00m\n\u001b[0;32m    260\u001b[0m     \u001b[38;5;28;01masync\u001b[39;00m \u001b[38;5;28;01mwith\u001b[39;00m \u001b[38;5;28mself\u001b[39m\u001b[38;5;241m.\u001b[39m_pool_lock:\n\u001b[0;32m    261\u001b[0m         \u001b[38;5;66;03m# Maintain our position in the request queue, but reset the\u001b[39;00m\n\u001b[0;32m    262\u001b[0m         \u001b[38;5;66;03m# status so that the request becomes queued again.\u001b[39;00m\n",
      "File \u001b[1;32mc:\\Users\\amine\\Anaconda3\\Lib\\site-packages\\httpcore\\_async\\connection.py:103\u001b[0m, in \u001b[0;36mAsyncHTTPConnection.handle_async_request\u001b[1;34m(self, request)\u001b[0m\n\u001b[0;32m    100\u001b[0m     \u001b[38;5;28;01melif\u001b[39;00m \u001b[38;5;129;01mnot\u001b[39;00m \u001b[38;5;28mself\u001b[39m\u001b[38;5;241m.\u001b[39m_connection\u001b[38;5;241m.\u001b[39mis_available():\n\u001b[0;32m    101\u001b[0m         \u001b[38;5;28;01mraise\u001b[39;00m ConnectionNotAvailable()\n\u001b[1;32m--> 103\u001b[0m \u001b[38;5;28;01mreturn\u001b[39;00m \u001b[38;5;28;01mawait\u001b[39;00m \u001b[38;5;28mself\u001b[39m\u001b[38;5;241m.\u001b[39m_connection\u001b[38;5;241m.\u001b[39mhandle_async_request(request)\n",
      "File \u001b[1;32mc:\\Users\\amine\\Anaconda3\\Lib\\site-packages\\httpcore\\_async\\http11.py:133\u001b[0m, in \u001b[0;36mAsyncHTTP11Connection.handle_async_request\u001b[1;34m(self, request)\u001b[0m\n\u001b[0;32m    131\u001b[0m     \u001b[38;5;28;01masync\u001b[39;00m \u001b[38;5;28;01mwith\u001b[39;00m Trace(\u001b[38;5;124m\"\u001b[39m\u001b[38;5;124mresponse_closed\u001b[39m\u001b[38;5;124m\"\u001b[39m, logger, request) \u001b[38;5;28;01mas\u001b[39;00m trace:\n\u001b[0;32m    132\u001b[0m         \u001b[38;5;28;01mawait\u001b[39;00m \u001b[38;5;28mself\u001b[39m\u001b[38;5;241m.\u001b[39m_response_closed()\n\u001b[1;32m--> 133\u001b[0m \u001b[38;5;28;01mraise\u001b[39;00m exc\n",
      "File \u001b[1;32mc:\\Users\\amine\\Anaconda3\\Lib\\site-packages\\httpcore\\_async\\http11.py:111\u001b[0m, in \u001b[0;36mAsyncHTTP11Connection.handle_async_request\u001b[1;34m(self, request)\u001b[0m\n\u001b[0;32m    101\u001b[0m     \u001b[38;5;28;01mpass\u001b[39;00m\n\u001b[0;32m    103\u001b[0m \u001b[38;5;28;01masync\u001b[39;00m \u001b[38;5;28;01mwith\u001b[39;00m Trace(\n\u001b[0;32m    104\u001b[0m     \u001b[38;5;124m\"\u001b[39m\u001b[38;5;124mreceive_response_headers\u001b[39m\u001b[38;5;124m\"\u001b[39m, logger, request, kwargs\n\u001b[0;32m    105\u001b[0m ) \u001b[38;5;28;01mas\u001b[39;00m trace:\n\u001b[0;32m    106\u001b[0m     (\n\u001b[0;32m    107\u001b[0m         http_version,\n\u001b[0;32m    108\u001b[0m         status,\n\u001b[0;32m    109\u001b[0m         reason_phrase,\n\u001b[0;32m    110\u001b[0m         headers,\n\u001b[1;32m--> 111\u001b[0m     ) \u001b[38;5;241m=\u001b[39m \u001b[38;5;28;01mawait\u001b[39;00m \u001b[38;5;28mself\u001b[39m\u001b[38;5;241m.\u001b[39m_receive_response_headers(\u001b[38;5;241m*\u001b[39m\u001b[38;5;241m*\u001b[39mkwargs)\n\u001b[0;32m    112\u001b[0m     trace\u001b[38;5;241m.\u001b[39mreturn_value \u001b[38;5;241m=\u001b[39m (\n\u001b[0;32m    113\u001b[0m         http_version,\n\u001b[0;32m    114\u001b[0m         status,\n\u001b[0;32m    115\u001b[0m         reason_phrase,\n\u001b[0;32m    116\u001b[0m         headers,\n\u001b[0;32m    117\u001b[0m     )\n\u001b[0;32m    119\u001b[0m \u001b[38;5;28;01mreturn\u001b[39;00m Response(\n\u001b[0;32m    120\u001b[0m     status\u001b[38;5;241m=\u001b[39mstatus,\n\u001b[0;32m    121\u001b[0m     headers\u001b[38;5;241m=\u001b[39mheaders,\n\u001b[1;32m   (...)\u001b[0m\n\u001b[0;32m    127\u001b[0m     },\n\u001b[0;32m    128\u001b[0m )\n",
      "File \u001b[1;32mc:\\Users\\amine\\Anaconda3\\Lib\\site-packages\\httpcore\\_async\\http11.py:176\u001b[0m, in \u001b[0;36mAsyncHTTP11Connection._receive_response_headers\u001b[1;34m(self, request)\u001b[0m\n\u001b[0;32m    173\u001b[0m timeout \u001b[38;5;241m=\u001b[39m timeouts\u001b[38;5;241m.\u001b[39mget(\u001b[38;5;124m\"\u001b[39m\u001b[38;5;124mread\u001b[39m\u001b[38;5;124m\"\u001b[39m, \u001b[38;5;28;01mNone\u001b[39;00m)\n\u001b[0;32m    175\u001b[0m \u001b[38;5;28;01mwhile\u001b[39;00m \u001b[38;5;28;01mTrue\u001b[39;00m:\n\u001b[1;32m--> 176\u001b[0m     event \u001b[38;5;241m=\u001b[39m \u001b[38;5;28;01mawait\u001b[39;00m \u001b[38;5;28mself\u001b[39m\u001b[38;5;241m.\u001b[39m_receive_event(timeout\u001b[38;5;241m=\u001b[39mtimeout)\n\u001b[0;32m    177\u001b[0m     \u001b[38;5;28;01mif\u001b[39;00m \u001b[38;5;28misinstance\u001b[39m(event, h11\u001b[38;5;241m.\u001b[39mResponse):\n\u001b[0;32m    178\u001b[0m         \u001b[38;5;28;01mbreak\u001b[39;00m\n",
      "File \u001b[1;32mc:\\Users\\amine\\Anaconda3\\Lib\\site-packages\\httpcore\\_async\\http11.py:212\u001b[0m, in \u001b[0;36mAsyncHTTP11Connection._receive_event\u001b[1;34m(self, timeout)\u001b[0m\n\u001b[0;32m    209\u001b[0m     event \u001b[38;5;241m=\u001b[39m \u001b[38;5;28mself\u001b[39m\u001b[38;5;241m.\u001b[39m_h11_state\u001b[38;5;241m.\u001b[39mnext_event()\n\u001b[0;32m    211\u001b[0m \u001b[38;5;28;01mif\u001b[39;00m event \u001b[38;5;129;01mis\u001b[39;00m h11\u001b[38;5;241m.\u001b[39mNEED_DATA:\n\u001b[1;32m--> 212\u001b[0m     data \u001b[38;5;241m=\u001b[39m \u001b[38;5;28;01mawait\u001b[39;00m \u001b[38;5;28mself\u001b[39m\u001b[38;5;241m.\u001b[39m_network_stream\u001b[38;5;241m.\u001b[39mread(\n\u001b[0;32m    213\u001b[0m         \u001b[38;5;28mself\u001b[39m\u001b[38;5;241m.\u001b[39mREAD_NUM_BYTES, timeout\u001b[38;5;241m=\u001b[39mtimeout\n\u001b[0;32m    214\u001b[0m     )\n\u001b[0;32m    216\u001b[0m     \u001b[38;5;66;03m# If we feed this case through h11 we'll raise an exception like:\u001b[39;00m\n\u001b[0;32m    217\u001b[0m     \u001b[38;5;66;03m#\u001b[39;00m\n\u001b[0;32m    218\u001b[0m     \u001b[38;5;66;03m#     httpcore.RemoteProtocolError: can't handle event type\u001b[39;00m\n\u001b[1;32m   (...)\u001b[0m\n\u001b[0;32m    222\u001b[0m     \u001b[38;5;66;03m# perspective. Instead we handle this case distinctly and treat\u001b[39;00m\n\u001b[0;32m    223\u001b[0m     \u001b[38;5;66;03m# it as a ConnectError.\u001b[39;00m\n\u001b[0;32m    224\u001b[0m     \u001b[38;5;28;01mif\u001b[39;00m data \u001b[38;5;241m==\u001b[39m \u001b[38;5;124mb\u001b[39m\u001b[38;5;124m\"\u001b[39m\u001b[38;5;124m\"\u001b[39m \u001b[38;5;129;01mand\u001b[39;00m \u001b[38;5;28mself\u001b[39m\u001b[38;5;241m.\u001b[39m_h11_state\u001b[38;5;241m.\u001b[39mtheir_state \u001b[38;5;241m==\u001b[39m h11\u001b[38;5;241m.\u001b[39mSEND_RESPONSE:\n",
      "File \u001b[1;32mc:\\Users\\amine\\Anaconda3\\Lib\\site-packages\\httpcore\\_backends\\anyio.py:34\u001b[0m, in \u001b[0;36mAnyIOStream.read\u001b[1;34m(self, max_bytes, timeout)\u001b[0m\n\u001b[0;32m     32\u001b[0m \u001b[38;5;28;01mwith\u001b[39;00m anyio\u001b[38;5;241m.\u001b[39mfail_after(timeout):\n\u001b[0;32m     33\u001b[0m     \u001b[38;5;28;01mtry\u001b[39;00m:\n\u001b[1;32m---> 34\u001b[0m         \u001b[38;5;28;01mreturn\u001b[39;00m \u001b[38;5;28;01mawait\u001b[39;00m \u001b[38;5;28mself\u001b[39m\u001b[38;5;241m.\u001b[39m_stream\u001b[38;5;241m.\u001b[39mreceive(max_bytes\u001b[38;5;241m=\u001b[39mmax_bytes)\n\u001b[0;32m     35\u001b[0m     \u001b[38;5;28;01mexcept\u001b[39;00m anyio\u001b[38;5;241m.\u001b[39mEndOfStream:  \u001b[38;5;66;03m# pragma: nocover\u001b[39;00m\n\u001b[0;32m     36\u001b[0m         \u001b[38;5;28;01mreturn\u001b[39;00m \u001b[38;5;124mb\u001b[39m\u001b[38;5;124m\"\u001b[39m\u001b[38;5;124m\"\u001b[39m\n",
      "File \u001b[1;32mc:\\Users\\amine\\Anaconda3\\Lib\\site-packages\\anyio\\streams\\tls.py:205\u001b[0m, in \u001b[0;36mTLSStream.receive\u001b[1;34m(self, max_bytes)\u001b[0m\n\u001b[0;32m    204\u001b[0m \u001b[38;5;28;01masync\u001b[39;00m \u001b[38;5;28;01mdef\u001b[39;00m \u001b[38;5;21mreceive\u001b[39m(\u001b[38;5;28mself\u001b[39m, max_bytes: \u001b[38;5;28mint\u001b[39m \u001b[38;5;241m=\u001b[39m \u001b[38;5;241m65536\u001b[39m) \u001b[38;5;241m-\u001b[39m\u001b[38;5;241m>\u001b[39m \u001b[38;5;28mbytes\u001b[39m:\n\u001b[1;32m--> 205\u001b[0m     data \u001b[38;5;241m=\u001b[39m \u001b[38;5;28;01mawait\u001b[39;00m \u001b[38;5;28mself\u001b[39m\u001b[38;5;241m.\u001b[39m_call_sslobject_method(\u001b[38;5;28mself\u001b[39m\u001b[38;5;241m.\u001b[39m_ssl_object\u001b[38;5;241m.\u001b[39mread, max_bytes)\n\u001b[0;32m    206\u001b[0m     \u001b[38;5;28;01mif\u001b[39;00m \u001b[38;5;129;01mnot\u001b[39;00m data:\n\u001b[0;32m    207\u001b[0m         \u001b[38;5;28;01mraise\u001b[39;00m EndOfStream\n",
      "File \u001b[1;32mc:\\Users\\amine\\Anaconda3\\Lib\\site-packages\\anyio\\streams\\tls.py:147\u001b[0m, in \u001b[0;36mTLSStream._call_sslobject_method\u001b[1;34m(self, func, *args)\u001b[0m\n\u001b[0;32m    144\u001b[0m     \u001b[38;5;28;01mif\u001b[39;00m \u001b[38;5;28mself\u001b[39m\u001b[38;5;241m.\u001b[39m_write_bio\u001b[38;5;241m.\u001b[39mpending:\n\u001b[0;32m    145\u001b[0m         \u001b[38;5;28;01mawait\u001b[39;00m \u001b[38;5;28mself\u001b[39m\u001b[38;5;241m.\u001b[39mtransport_stream\u001b[38;5;241m.\u001b[39msend(\u001b[38;5;28mself\u001b[39m\u001b[38;5;241m.\u001b[39m_write_bio\u001b[38;5;241m.\u001b[39mread())\n\u001b[1;32m--> 147\u001b[0m     data \u001b[38;5;241m=\u001b[39m \u001b[38;5;28;01mawait\u001b[39;00m \u001b[38;5;28mself\u001b[39m\u001b[38;5;241m.\u001b[39mtransport_stream\u001b[38;5;241m.\u001b[39mreceive()\n\u001b[0;32m    148\u001b[0m \u001b[38;5;28;01mexcept\u001b[39;00m EndOfStream:\n\u001b[0;32m    149\u001b[0m     \u001b[38;5;28mself\u001b[39m\u001b[38;5;241m.\u001b[39m_read_bio\u001b[38;5;241m.\u001b[39mwrite_eof()\n",
      "File \u001b[1;32mc:\\Users\\amine\\Anaconda3\\Lib\\site-packages\\anyio\\_backends\\_asyncio.py:1123\u001b[0m, in \u001b[0;36mSocketStream.receive\u001b[1;34m(self, max_bytes)\u001b[0m\n\u001b[0;32m   1118\u001b[0m \u001b[38;5;28;01mif\u001b[39;00m (\n\u001b[0;32m   1119\u001b[0m     \u001b[38;5;129;01mnot\u001b[39;00m \u001b[38;5;28mself\u001b[39m\u001b[38;5;241m.\u001b[39m_protocol\u001b[38;5;241m.\u001b[39mread_event\u001b[38;5;241m.\u001b[39mis_set()\n\u001b[0;32m   1120\u001b[0m     \u001b[38;5;129;01mand\u001b[39;00m \u001b[38;5;129;01mnot\u001b[39;00m \u001b[38;5;28mself\u001b[39m\u001b[38;5;241m.\u001b[39m_transport\u001b[38;5;241m.\u001b[39mis_closing()\n\u001b[0;32m   1121\u001b[0m ):\n\u001b[0;32m   1122\u001b[0m     \u001b[38;5;28mself\u001b[39m\u001b[38;5;241m.\u001b[39m_transport\u001b[38;5;241m.\u001b[39mresume_reading()\n\u001b[1;32m-> 1123\u001b[0m     \u001b[38;5;28;01mawait\u001b[39;00m \u001b[38;5;28mself\u001b[39m\u001b[38;5;241m.\u001b[39m_protocol\u001b[38;5;241m.\u001b[39mread_event\u001b[38;5;241m.\u001b[39mwait()\n\u001b[0;32m   1124\u001b[0m     \u001b[38;5;28mself\u001b[39m\u001b[38;5;241m.\u001b[39m_transport\u001b[38;5;241m.\u001b[39mpause_reading()\n\u001b[0;32m   1126\u001b[0m \u001b[38;5;28;01mtry\u001b[39;00m:\n",
      "File \u001b[1;32mc:\\Users\\amine\\Anaconda3\\Lib\\asyncio\\locks.py:212\u001b[0m, in \u001b[0;36mEvent.wait\u001b[1;34m(self)\u001b[0m\n\u001b[0;32m    210\u001b[0m \u001b[38;5;28mself\u001b[39m\u001b[38;5;241m.\u001b[39m_waiters\u001b[38;5;241m.\u001b[39mappend(fut)\n\u001b[0;32m    211\u001b[0m \u001b[38;5;28;01mtry\u001b[39;00m:\n\u001b[1;32m--> 212\u001b[0m     \u001b[38;5;28;01mawait\u001b[39;00m fut\n\u001b[0;32m    213\u001b[0m     \u001b[38;5;28;01mreturn\u001b[39;00m \u001b[38;5;28;01mTrue\u001b[39;00m\n\u001b[0;32m    214\u001b[0m \u001b[38;5;28;01mfinally\u001b[39;00m:\n",
      "\u001b[1;31mCancelledError\u001b[0m: "
     ]
    }
   ],
   "source": [
    "output = []\n",
    "\n",
    "for i in range(len(data_user)):\n",
    "    \n",
    "    documents = data_user[\"user_list_doc\"][i]  \n",
    "    state = await app.ainvoke({\"contents\": [doc.page_content for doc in documents], \"extra_args\": {\"llm\": llm}})\n",
    "    \n",
    "    summary_document = Document(\n",
    "        page_content=state[\"summary\"], \n",
    "        metadata={\"user_id\": data_user[\"user_id\"][i], \"topic_user\": data_user[\"user_topic\"][i]} \n",
    "    )\n",
    "    output.append(summary_document)  \n",
    "\n",
    "data_user[\"user_summary_profile\"] = output"
   ]
  },
  {
   "cell_type": "code",
   "execution_count": 26,
   "metadata": {},
   "outputs": [
    {
     "data": {
      "text/plain": [
       "[Document(metadata={'user_id': 'user_1', 'topic_user': 'job loss, depression'}, page_content='The speaker is grappling with feelings of purposelessness and inadequacy due to job loss and repeated rejections in their job search. Despite initially finding some comfort in conversations with friends, they now feel like a burden when they share their feelings, further intensifying their struggle.'),\n",
       " Document(metadata={'user_id': 'user_2', 'topic_user': 'social anxiety, loneliness'}, page_content='The author, battling severe social anxiety that drastically impacts their daily activities and relationships, experiences intense loneliness due to avoidance of social gatherings. Recently, they have begun therapy to manage their condition. Despite acknowledging the difficulty of the process, the author expresses a sense of hope that this therapeutic intervention might yield positive results.'),\n",
       " Document(metadata={'user_id': 'user_3', 'topic_user': 'grief, loss'}, page_content=\"The author is deeply grieving the loss of their mother who succited to cancer and was their main source of strength and guidance. They are finding the absence of their mother difficult to cope with in their day-to-day life. Journaling their thoughts and feelings has been a coping mechanism, but it only provides temporary relief from the profound sorrow they experience. They often find solace in sitting in their mother's favorite chair, imagining her presence, underlining the depth of their struggle with her loss.\"),\n",
       " Document(metadata={'user_id': 'user_4', 'topic_user': 'self-doubt, failure'}, page_content=\"The author continues to express feelings of failure and stagnation, originating from dropping out of college and working in temporary jobs. Despite efforts to learn new skills online, the author still perceives it as an uphill battle, further increasing feelings of inadequacy, especially when comparing their life trajectory with their successful friends. The author's struggle is intensified by the desire to find a fulfilling path and make their family proud.\"),\n",
       " Document(metadata={'user_id': 'user_5', 'topic_user': 'divorce, loneliness'}, page_content='The individual is navigating life post-divorce, dealing with the loss of their partner, routine, security, and sense of purpose. They are making strides towards self-improvement and personal growth, turning to hobbies like painting and hiking in an attempt to cope. Despite these efforts, they are wrestling with growing feelings of loneliness, particularly during the night. However, conversations with their children provide some emotional grounding during this tough transition.'),\n",
       " Document(metadata={'user_id': 'user_6', 'topic_user': 'chronic depression'}, page_content='The author discloses their ongoing battle with depression, describing it as a persistent fog that permeates their daily existence. Despite attempts to mitigate the symptoms with medication, therapy, and exercise, there has been no enduring relief. Friends and family have tried to offer support, but the author feels increasingly isolated, expressing that no one truly comprehends the reality of living with their condition.'),\n",
       " Document(metadata={'user_id': 'user_7', 'topic_user': 'parenting, stress'}, page_content=\"Between managing household chores, caring for my child, and grappling with self-doubt, I often feel overwhelmed with little time for personal care. This is frequently coupled with guilt and worry over whether I am doing enough for my child, sometimes leading to emotional exhaustion and sleepless nights. Despite these challenges and personal struggles, the joy I find in motherhood is unparalleled and is an experience I wouldn't trade for anything.\"),\n",
       " Document(metadata={'user_id': 'user_8', 'topic_user': 'chronic pain, emotional toll'}, page_content='The author has been coping with the aftermath of a severe injury for years, resulting in chronic pain and a drastic alteration in their lifestyle. This persistent pain has necessitated them to abandon beloved activities such as running and participating in sports. Despite the daily struggle, the author strives to stay optimistic by concentrating on minor achievements, such as managing to take short walks.'),\n",
       " Document(metadata={'user_id': 'user_9', 'topic_user': 'self-esteem, comparison'}, page_content='The author is struggling with low self-esteem, worsened by frequent comparisons to others on social media. This situation is draining, driving them to take up journaling as a coping mechanism. Despite trying to limit their screen time, they find it challenging to break this cycle.'),\n",
       " Document(metadata={'user_id': 'user_10', 'topic_user': 'isolation, pandemic'}, page_content='Despite attempts to cope with challenges like isolation, loneliness, and disconnection brought by remote work during the pandemic, the lack of daily interactions with colleagues is keenly felt. Even video calls are insufficient in replacing the experience of in-person interaction.')]"
      ]
     },
     "execution_count": 26,
     "metadata": {},
     "output_type": "execute_result"
    }
   ],
   "source": [
    "output"
   ]
  },
  {
   "cell_type": "code",
   "execution_count": 27,
   "metadata": {},
   "outputs": [
    {
     "name": "stderr",
     "output_type": "stream",
     "text": [
      "C:\\Users\\amine\\AppData\\Local\\Temp\\ipykernel_14040\\3489121081.py:12: LangChainDeprecationWarning: The class `OpenAIEmbeddings` was deprecated in LangChain 0.0.9 and will be removed in 1.0. An updated version of the class exists in the :class:`~langchain-openai package and should be used instead. To use it run `pip install -U :class:`~langchain-openai` and import as `from :class:`~langchain_openai import OpenAIEmbeddings``.\n",
      "  embedding_function = OpenAIEmbeddings()\n",
      "C:\\Users\\amine\\AppData\\Local\\Temp\\ipykernel_14040\\3489121081.py:15: LangChainDeprecationWarning: The class `Chroma` was deprecated in LangChain 0.2.9 and will be removed in 1.0. An updated version of the class exists in the :class:`~langchain-chroma package and should be used instead. To use it run `pip install -U :class:`~langchain-chroma` and import as `from :class:`~langchain_chroma import Chroma``.\n",
      "  db = Chroma(\n"
     ]
    },
    {
     "name": "stdout",
     "output_type": "stream",
     "text": [
      "Chroma database initialized successfully!\n"
     ]
    }
   ],
   "source": [
    "from chromadb.config import Settings\n",
    "from langchain.vectorstores import Chroma\n",
    "from langchain.embeddings.openai import OpenAIEmbeddings\n",
    "\n",
    "# Enable resetting the database in the settings\n",
    "settings = Settings(\n",
    "    allow_reset=True,\n",
    "    persist_directory=\"./chromadb\"  # Specify persistence directory if needed\n",
    ")\n",
    "\n",
    "# Initialize OpenAI embeddings\n",
    "embedding_function = OpenAIEmbeddings()\n",
    "\n",
    "# Create a Chroma instance with the settings\n",
    "db = Chroma(\n",
    "    collection_name=\"my_collection\",\n",
    "    embedding_function=embedding_function,\n",
    "    client_settings=settings\n",
    ")\n",
    "\n",
    "print(\"Chroma database initialized successfully!\")"
   ]
  },
  {
   "cell_type": "code",
   "execution_count": 28,
   "metadata": {},
   "outputs": [
    {
     "data": {
      "text/plain": [
       "['2440bffe-b1ec-432f-9cde-a94f557a0614',\n",
       " 'a9d44919-b89f-4cad-87f5-788c3d3da8f4',\n",
       " '4924b14e-96c5-450c-8922-a69b96b7f852',\n",
       " '2b4ce92f-fdba-4488-a8d8-701bfe98398d',\n",
       " '5de5dce4-7a16-46fa-8bc7-4e0a73b541db',\n",
       " '49bfb556-7394-417d-bb17-921eaff2549c',\n",
       " '0e90af57-c758-4436-922a-8ad1ebc974d5',\n",
       " '5bf0d2ed-c4bc-424d-9660-f61a96a7ef97',\n",
       " '04024851-573e-49c9-acc7-e09fb933bf90',\n",
       " 'c0e0683d-f83f-4b38-9e2a-e06cd8981b03']"
      ]
     },
     "execution_count": 28,
     "metadata": {},
     "output_type": "execute_result"
    }
   ],
   "source": [
    "db.add_documents(output)"
   ]
  },
  {
   "cell_type": "code",
   "execution_count": 29,
   "metadata": {},
   "outputs": [],
   "source": [
    "similarity_profile_docs = []\n",
    "\n",
    "for i in range(len(data_user)):\n",
    "    current_user_id = data_user[\"user_id\"][i]\n",
    "    query = data_user[\"user_summary_profile\"][i].page_content\n",
    "    docs = db.similarity_search(query = query,\n",
    "                                filter = {\"user_id\": {\"$ne\": current_user_id}})\n",
    "    similarity_profile_docs.append(docs)\n",
    "\n",
    "data_user[\"similar_profile\"] = similarity_profile_docs"
   ]
  },
  {
   "cell_type": "code",
   "execution_count": 30,
   "metadata": {},
   "outputs": [
    {
     "data": {
      "text/plain": [
       "[Document(metadata={'topic_user': 'social anxiety, loneliness', 'user_id': 'user_2'}, page_content='The author, battling severe social anxiety that drastically impacts their daily activities and relationships, experiences intense loneliness due to avoidance of social gatherings. Recently, they have begun therapy to manage their condition. Despite acknowledging the difficulty of the process, the author expresses a sense of hope that this therapeutic intervention might yield positive results.'),\n",
       " Document(metadata={'topic_user': 'job loss, depression', 'user_id': 'user_1'}, page_content='The speaker is grappling with feelings of purposelessness and inadequacy due to job loss and repeated rejections in their job search. Despite initially finding some comfort in conversations with friends, they now feel like a burden when they share their feelings, further intensifying their struggle.'),\n",
       " Document(metadata={'topic_user': 'self-doubt, failure', 'user_id': 'user_4'}, page_content=\"The author continues to express feelings of failure and stagnation, originating from dropping out of college and working in temporary jobs. Despite efforts to learn new skills online, the author still perceives it as an uphill battle, further increasing feelings of inadequacy, especially when comparing their life trajectory with their successful friends. The author's struggle is intensified by the desire to find a fulfilling path and make their family proud.\"),\n",
       " Document(metadata={'topic_user': 'self-esteem, comparison', 'user_id': 'user_9'}, page_content='The author is struggling with low self-esteem, worsened by frequent comparisons to others on social media. This situation is draining, driving them to take up journaling as a coping mechanism. Despite trying to limit their screen time, they find it challenging to break this cycle.')]"
      ]
     },
     "execution_count": 30,
     "metadata": {},
     "output_type": "execute_result"
    }
   ],
   "source": [
    "data_user[\"similar_profile\"][9]"
   ]
  },
  {
   "cell_type": "code",
   "execution_count": 31,
   "metadata": {},
   "outputs": [
    {
     "data": {
      "text/html": [
       "<div>\n",
       "<style scoped>\n",
       "    .dataframe tbody tr th:only-of-type {\n",
       "        vertical-align: middle;\n",
       "    }\n",
       "\n",
       "    .dataframe tbody tr th {\n",
       "        vertical-align: top;\n",
       "    }\n",
       "\n",
       "    .dataframe thead th {\n",
       "        text-align: right;\n",
       "    }\n",
       "</style>\n",
       "<table border=\"1\" class=\"dataframe\">\n",
       "  <thead>\n",
       "    <tr style=\"text-align: right;\">\n",
       "      <th></th>\n",
       "      <th>user_id</th>\n",
       "      <th>user_topic</th>\n",
       "      <th>user_list_doc</th>\n",
       "      <th>user_summary_profile</th>\n",
       "      <th>similar_profile</th>\n",
       "    </tr>\n",
       "  </thead>\n",
       "  <tbody>\n",
       "    <tr>\n",
       "      <th>0</th>\n",
       "      <td>user_1</td>\n",
       "      <td>job loss, depression</td>\n",
       "      <td>[page_content='Ever since I lost my job last y...</td>\n",
       "      <td>page_content='The speaker is grappling with fe...</td>\n",
       "      <td>[page_content='The author continues to express...</td>\n",
       "    </tr>\n",
       "    <tr>\n",
       "      <th>1</th>\n",
       "      <td>user_2</td>\n",
       "      <td>social anxiety, loneliness</td>\n",
       "      <td>[page_content='My battle with social anxiety h...</td>\n",
       "      <td>page_content='The author, battling severe soci...</td>\n",
       "      <td>[page_content='The author discloses their ongo...</td>\n",
       "    </tr>\n",
       "    <tr>\n",
       "      <th>2</th>\n",
       "      <td>user_3</td>\n",
       "      <td>grief, loss</td>\n",
       "      <td>[page_content='Losing my mother to cancer was ...</td>\n",
       "      <td>page_content='The author is deeply grieving th...</td>\n",
       "      <td>[page_content='The author has been coping with...</td>\n",
       "    </tr>\n",
       "    <tr>\n",
       "      <th>3</th>\n",
       "      <td>user_4</td>\n",
       "      <td>self-doubt, failure</td>\n",
       "      <td>[page_content='For years, I’ve felt like a fai...</td>\n",
       "      <td>page_content='The author continues to express ...</td>\n",
       "      <td>[page_content='The speaker is grappling with f...</td>\n",
       "    </tr>\n",
       "    <tr>\n",
       "      <th>4</th>\n",
       "      <td>user_5</td>\n",
       "      <td>divorce, loneliness</td>\n",
       "      <td>[page_content='After my divorce, life has felt...</td>\n",
       "      <td>page_content='The individual is navigating lif...</td>\n",
       "      <td>[page_content='The author continues to express...</td>\n",
       "    </tr>\n",
       "    <tr>\n",
       "      <th>5</th>\n",
       "      <td>user_6</td>\n",
       "      <td>chronic depression</td>\n",
       "      <td>[page_content='Depression has been my constant...</td>\n",
       "      <td>page_content='The author discloses their ongoi...</td>\n",
       "      <td>[page_content='The author, battling severe soc...</td>\n",
       "    </tr>\n",
       "    <tr>\n",
       "      <th>6</th>\n",
       "      <td>user_7</td>\n",
       "      <td>parenting, stress</td>\n",
       "      <td>[page_content='Being a single parent is the ha...</td>\n",
       "      <td>page_content='Between managing household chore...</td>\n",
       "      <td>[page_content='The individual is navigating li...</td>\n",
       "    </tr>\n",
       "    <tr>\n",
       "      <th>7</th>\n",
       "      <td>user_8</td>\n",
       "      <td>chronic pain, emotional toll</td>\n",
       "      <td>[page_content='A few years ago, I suffered a s...</td>\n",
       "      <td>page_content='The author has been coping with ...</td>\n",
       "      <td>[page_content='The author, battling severe soc...</td>\n",
       "    </tr>\n",
       "    <tr>\n",
       "      <th>8</th>\n",
       "      <td>user_9</td>\n",
       "      <td>self-esteem, comparison</td>\n",
       "      <td>[page_content='I’ve always struggled with self...</td>\n",
       "      <td>page_content='The author is struggling with lo...</td>\n",
       "      <td>[page_content='The author, battling severe soc...</td>\n",
       "    </tr>\n",
       "    <tr>\n",
       "      <th>9</th>\n",
       "      <td>user_10</td>\n",
       "      <td>isolation, pandemic</td>\n",
       "      <td>[page_content='The pandemic left me feeling is...</td>\n",
       "      <td>page_content='Despite attempts to cope with ch...</td>\n",
       "      <td>[page_content='The author, battling severe soc...</td>\n",
       "    </tr>\n",
       "  </tbody>\n",
       "</table>\n",
       "</div>"
      ],
      "text/plain": [
       "   user_id                    user_topic  \\\n",
       "0   user_1          job loss, depression   \n",
       "1   user_2    social anxiety, loneliness   \n",
       "2   user_3                   grief, loss   \n",
       "3   user_4           self-doubt, failure   \n",
       "4   user_5           divorce, loneliness   \n",
       "5   user_6            chronic depression   \n",
       "6   user_7             parenting, stress   \n",
       "7   user_8  chronic pain, emotional toll   \n",
       "8   user_9       self-esteem, comparison   \n",
       "9  user_10           isolation, pandemic   \n",
       "\n",
       "                                       user_list_doc  \\\n",
       "0  [page_content='Ever since I lost my job last y...   \n",
       "1  [page_content='My battle with social anxiety h...   \n",
       "2  [page_content='Losing my mother to cancer was ...   \n",
       "3  [page_content='For years, I’ve felt like a fai...   \n",
       "4  [page_content='After my divorce, life has felt...   \n",
       "5  [page_content='Depression has been my constant...   \n",
       "6  [page_content='Being a single parent is the ha...   \n",
       "7  [page_content='A few years ago, I suffered a s...   \n",
       "8  [page_content='I’ve always struggled with self...   \n",
       "9  [page_content='The pandemic left me feeling is...   \n",
       "\n",
       "                                user_summary_profile  \\\n",
       "0  page_content='The speaker is grappling with fe...   \n",
       "1  page_content='The author, battling severe soci...   \n",
       "2  page_content='The author is deeply grieving th...   \n",
       "3  page_content='The author continues to express ...   \n",
       "4  page_content='The individual is navigating lif...   \n",
       "5  page_content='The author discloses their ongoi...   \n",
       "6  page_content='Between managing household chore...   \n",
       "7  page_content='The author has been coping with ...   \n",
       "8  page_content='The author is struggling with lo...   \n",
       "9  page_content='Despite attempts to cope with ch...   \n",
       "\n",
       "                                     similar_profile  \n",
       "0  [page_content='The author continues to express...  \n",
       "1  [page_content='The author discloses their ongo...  \n",
       "2  [page_content='The author has been coping with...  \n",
       "3  [page_content='The speaker is grappling with f...  \n",
       "4  [page_content='The author continues to express...  \n",
       "5  [page_content='The author, battling severe soc...  \n",
       "6  [page_content='The individual is navigating li...  \n",
       "7  [page_content='The author, battling severe soc...  \n",
       "8  [page_content='The author, battling severe soc...  \n",
       "9  [page_content='The author, battling severe soc...  "
      ]
     },
     "execution_count": 31,
     "metadata": {},
     "output_type": "execute_result"
    }
   ],
   "source": [
    "data_user"
   ]
  },
  {
   "cell_type": "code",
   "execution_count": null,
   "metadata": {},
   "outputs": [
    {
     "name": "stdout",
     "output_type": "stream",
     "text": [
      "Chroma instance deleted from memory.\n"
     ]
    }
   ],
   "source": [
    "\n"
   ]
  },
  {
   "cell_type": "code",
   "execution_count": null,
   "metadata": {},
   "outputs": [],
   "source": []
  },
  {
   "cell_type": "code",
   "execution_count": null,
   "metadata": {},
   "outputs": [],
   "source": []
  },
  {
   "cell_type": "code",
   "execution_count": null,
   "metadata": {},
   "outputs": [],
   "source": []
  },
  {
   "cell_type": "code",
   "execution_count": null,
   "metadata": {},
   "outputs": [],
   "source": []
  },
  {
   "cell_type": "code",
   "execution_count": null,
   "metadata": {},
   "outputs": [],
   "source": []
  },
  {
   "cell_type": "code",
   "execution_count": null,
   "metadata": {},
   "outputs": [],
   "source": []
  },
  {
   "cell_type": "code",
   "execution_count": null,
   "metadata": {},
   "outputs": [],
   "source": []
  },
  {
   "cell_type": "code",
   "execution_count": null,
   "metadata": {},
   "outputs": [],
   "source": []
  },
  {
   "cell_type": "code",
   "execution_count": null,
   "metadata": {},
   "outputs": [],
   "source": []
  },
  {
   "cell_type": "code",
   "execution_count": null,
   "metadata": {},
   "outputs": [],
   "source": []
  },
  {
   "cell_type": "code",
   "execution_count": null,
   "metadata": {},
   "outputs": [],
   "source": []
  }
 ],
 "metadata": {
  "kernelspec": {
   "display_name": "base",
   "language": "python",
   "name": "python3"
  },
  "language_info": {
   "codemirror_mode": {
    "name": "ipython",
    "version": 3
   },
   "file_extension": ".py",
   "mimetype": "text/x-python",
   "name": "python",
   "nbconvert_exporter": "python",
   "pygments_lexer": "ipython3",
   "version": "3.12.3"
  }
 },
 "nbformat": 4,
 "nbformat_minor": 2
}
